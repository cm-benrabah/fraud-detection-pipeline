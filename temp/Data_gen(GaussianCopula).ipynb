{
 "cells": [
  {
   "cell_type": "code",
   "execution_count": null,
   "id": "4432c175",
   "metadata": {},
   "outputs": [],
   "source": [
    "import pandas as pd\n",
    "from sdv.tabular import CTGAN, GaussianCopula\n",
    "\n",
    "# Load your Paysim dataset\n",
    "df = pd.read_csv(r'D:\\PS_20174392719_1491204439457_log.csv\\PS_20174392719_1491204439457_log.csv')\n",
    "\n",
    "# Train the SDV model (CTGAN for deep learning-based generation)\n",
    "model = GaussianCopula()\n",
    "model.fit(df)\n",
    "\n",
    "# Optionally, save the trained model for future use\n",
    "model.save('trained_GaussianCopula_model_2.pkl')"
   ]
  }
 ],
 "metadata": {
  "kernelspec": {
   "display_name": "Python 3",
   "language": "python",
   "name": "python3"
  },
  "language_info": {
   "codemirror_mode": {
    "name": "ipython",
    "version": 3
   },
   "file_extension": ".py",
   "mimetype": "text/x-python",
   "name": "python",
   "nbconvert_exporter": "python",
   "pygments_lexer": "ipython3",
   "version": "3.6.13"
  }
 },
 "nbformat": 4,
 "nbformat_minor": 5
}
