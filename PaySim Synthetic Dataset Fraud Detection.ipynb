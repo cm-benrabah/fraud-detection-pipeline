{
 "cells": [
  {
   "cell_type": "markdown",
   "metadata": {},
   "source": [
    "# Mobile money transactions Fraud Detection\n",
    "**Acknowledgements: This dataset is from Kaggle.\n",
    "For details, see https://www.kaggle.com/ntnu-testimon/paysim1/home**"
   ]
  },
  {
   "cell_type": "markdown",
   "metadata": {},
   "source": [
    "- [About this dataset](#About-this-dataset)\n",
    "- [Before you start](#Before-you-start)\n",
    "- [Setup](#Setup)\n",
    "- [Data Processing](#Data-Processing)\n",
    "  * [Load](#Load-data)\n",
    "  * [Explore](#Explore-the-dataset)\n",
    "  * [Feature Engineering](#Feature-Engineering)\n",
    "  * [Prepare dataset for SageMaker XGBoost](#Prepare-dataset-for-SageMaker-XGBoost)\n",
    "- [Training the XGBoost model](#Training-the-XGBoost-model)\n",
    "- [Predict Using Batch transform](#Predict-Using-Batch-transform)\n",
    "- [Predict using API inference endpoint](#Predict-using-API-inference-endpoint)\n",
    "\n",
    "\n",
    "\n",
    "  \n"
   ]
  },
  {
   "cell_type": "markdown",
   "metadata": {},
   "source": [
    "## About this dataset\n",
    "\n",
    "\n",
    "There is a lack of public available datasets on financial services and specially in the emerging mobile money transactions domain. Financial datasets are important to many researchers and in particular to us performing research in the domain of fraud detection. Part of the problem is the intrinsically private nature of financial transactions, that leads to no publicly available datasets.\n",
    "\n",
    "We present a synthetic dataset generated using the simulator called PaySim as an approach to such a problem. PaySim uses aggregated data from the private dataset to generate a synthetic dataset that resembles the normal operation of transactions and injects malicious behaviour to later evaluate the performance of fraud detection methods.\n",
    "Content\n",
    "\n",
    "PaySim simulates mobile money transactions based on a sample of real transactions extracted from one month of financial logs from a mobile money service implemented in an African country. The original logs were provided by a multinational company, who is the provider of the mobile financial service which is currently running in more than 14 countries all around the world.\n",
    "\n",
    "This synthetic dataset is scaled down 1/4 of the original dataset and it is created just for Kaggle.\n",
    "\n",
    "### Headers\n",
    "\n",
    "This is a sample of 1 row with headers explanation:\n",
    "\n",
    "1,PAYMENT,1060.31,C429214117,1089.0,28.69,M1591654462,0.0,0.0,0,0\n",
    "\n",
    "step - maps a unit of time in the real world. In this case 1 step is 1 hour of time. Total steps 744 (30 days simulation).\n",
    "\n",
    "type - CASH-IN, CASH-OUT, DEBIT, PAYMENT and TRANSFER.\n",
    "\n",
    "amount - amount of the transaction in local currency.\n",
    "\n",
    "nameOrig - customer who started the transaction\n",
    "\n",
    "oldbalanceOrg - initial balance before the transaction\n",
    "\n",
    "newbalanceOrig - new balance after the transaction\n",
    "\n",
    "nameDest - customer who is the recipient of the transaction\n",
    "\n",
    "oldbalanceDest - initial balance recipient before the transaction. Note that there is not information for customers that start with M (Merchants).\n",
    "\n",
    "newbalanceDest - new balance recipient after the transaction. Note that there is not information for customers that start with M (Merchants).\n",
    "\n",
    "isFraud - This is the transactions made by the fraudulent agents inside the simulation. In this specific dataset the fraudulent behavior of the agents aims to profit by taking control or customers accounts and try to empty the funds by transferring to another account and then cashing out of the system.\n",
    "\n",
    "isFlaggedFraud - The business model aims to control massive transfers from one account to another and flags illegal attempts. An illegal attempt in this dataset is an attempt to transfer more than 200.000 in a single transaction.\n",
    "Past Research\n",
    "\n",
    "There are 5 similar files that contain the run of 5 different scenarios. These files are better explained at my PhD thesis chapter 7 (PhD Thesis Available here http://urn.kb.se/resolve?urn=urn:nbn:se:bth-12932).\n",
    "\n",
    "We ran PaySim several times using random seeds for 744 steps, representing each hour of one month of real time, which matches the original logs. Each run took around 45 minutes on an i7 intel processor with 16GB of RAM. The final result of a run contains approximately 24 million of financial records divided into the 5 types of categories: CASH-IN, CASH-OUT, DEBIT, PAYMENT and TRANSFER.\n",
    "\n",
    "### Acknowledgements\n",
    "\n",
    "This work is part of the research project ”Scalable resource-efficient systems for big data analytics” funded by the Knowledge Foundation (grant: 20140032) in Sweden.\n",
    "\n",
    "Please refer to this dataset using the following citations:\n",
    "\n",
    "PaySim first paper of the simulator:\n",
    "\n",
    "E. A. Lopez-Rojas , A. Elmir, and S. Axelsson. \"PaySim: A financial mobile money simulator for fraud detection\". In: The 28th European Modeling and Simulation Symposium-EMSS, Larnaca, Cyprus. 2016\n",
    "\n"
   ]
  },
  {
   "cell_type": "markdown",
   "metadata": {},
   "source": [
    "## Before you start\n",
    "1. Manually Download the dataset from Kaggle https://www.kaggle.com/ntnu-testimon/paysim1/downloads/PS_20174392719_1491204439457_log.csv/2 and upload to s3"
   ]
  },
  {
   "cell_type": "markdown",
   "metadata": {},
   "source": [
    "## Setup"
   ]
  },
  {
   "cell_type": "code",
   "execution_count": 1,
   "metadata": {},
   "outputs": [],
   "source": [
    "### Download data from S3"
   ]
  },
  {
   "cell_type": "code",
   "execution_count": 9,
   "metadata": {},
   "outputs": [],
   "source": [
    "\n",
    "tmpdir=\".\"\n",
    "\n"
   ]
  },
  {
   "cell_type": "code",
   "execution_count": 3,
   "metadata": {},
   "outputs": [
    {
     "name": "stdout",
     "output_type": "stream",
     "text": [
      "Requirement already satisfied: numpy in c:\\users\\cm_be\\appdata\\roaming\\python\\python36\\site-packages (from -r requirements.txt (line 1)) (1.13.3)\n",
      "Requirement already satisfied: pandas in c:\\users\\cm_be\\appdata\\roaming\\python\\python36\\site-packages (from -r requirements.txt (line 2)) (0.22.0)\n",
      "Requirement already satisfied: boto3 in c:\\users\\cm_be\\anaconda3\\envs\\paysim_3.6\\lib\\site-packages (from -r requirements.txt (line 3)) (1.8.9)\n",
      "Requirement already satisfied: scikit-learn in c:\\users\\cm_be\\anaconda3\\envs\\paysim_3.6\\lib\\site-packages (from -r requirements.txt (line 4)) (0.24.2)\n",
      "Requirement already satisfied: matplotlib in c:\\users\\cm_be\\appdata\\roaming\\python\\python36\\site-packages (from -r requirements.txt (line 5)) (2.2.2)\n",
      "Requirement already satisfied: seaborn in c:\\users\\cm_be\\appdata\\roaming\\python\\python36\\site-packages (from -r requirements.txt (line 6)) (0.8.1)\n",
      "Requirement already satisfied: pytz>=2011k in c:\\users\\cm_be\\anaconda3\\envs\\paysim_3.6\\lib\\site-packages (from pandas->-r requirements.txt (line 2)) (2024.2)\n",
      "Requirement already satisfied: python-dateutil>=2 in c:\\users\\cm_be\\anaconda3\\envs\\paysim_3.6\\lib\\site-packages (from pandas->-r requirements.txt (line 2)) (2.9.0.post0)\n",
      "Requirement already satisfied: s3transfer<0.2.0,>=0.1.10 in c:\\users\\cm_be\\anaconda3\\envs\\paysim_3.6\\lib\\site-packages (from boto3->-r requirements.txt (line 3)) (0.1.13)\n",
      "Requirement already satisfied: jmespath<1.0.0,>=0.7.1 in c:\\users\\cm_be\\anaconda3\\envs\\paysim_3.6\\lib\\site-packages (from boto3->-r requirements.txt (line 3)) (0.10.0)\n",
      "Requirement already satisfied: botocore<1.12.0,>=1.11.9 in c:\\users\\cm_be\\anaconda3\\envs\\paysim_3.6\\lib\\site-packages (from boto3->-r requirements.txt (line 3)) (1.11.9)\n",
      "Requirement already satisfied: threadpoolctl>=2.0.0 in c:\\users\\cm_be\\anaconda3\\envs\\paysim_3.6\\lib\\site-packages (from scikit-learn->-r requirements.txt (line 4)) (3.1.0)\n",
      "Requirement already satisfied: scipy>=0.19.1 in c:\\users\\cm_be\\appdata\\roaming\\python\\python36\\site-packages (from scikit-learn->-r requirements.txt (line 4)) (1.4.1)\n",
      "Requirement already satisfied: joblib>=0.11 in c:\\users\\cm_be\\anaconda3\\envs\\paysim_3.6\\lib\\site-packages (from scikit-learn->-r requirements.txt (line 4)) (1.1.1)\n",
      "Requirement already satisfied: cycler>=0.10 in c:\\users\\cm_be\\anaconda3\\envs\\paysim_3.6\\lib\\site-packages (from matplotlib->-r requirements.txt (line 5)) (0.11.0)\n",
      "Requirement already satisfied: kiwisolver>=1.0.1 in c:\\users\\cm_be\\anaconda3\\envs\\paysim_3.6\\lib\\site-packages (from matplotlib->-r requirements.txt (line 5)) (1.3.1)\n",
      "Requirement already satisfied: pyparsing!=2.0.4,!=2.1.2,!=2.1.6,>=2.0.1 in c:\\users\\cm_be\\anaconda3\\envs\\paysim_3.6\\lib\\site-packages (from matplotlib->-r requirements.txt (line 5)) (3.1.4)\n",
      "Requirement already satisfied: six>=1.10 in c:\\users\\cm_be\\anaconda3\\envs\\paysim_3.6\\lib\\site-packages (from matplotlib->-r requirements.txt (line 5)) (1.17.0)\n",
      "Requirement already satisfied: docutils>=0.10 in c:\\users\\cm_be\\anaconda3\\envs\\paysim_3.6\\lib\\site-packages (from botocore<1.12.0,>=1.11.9->boto3->-r requirements.txt (line 3)) (0.18.1)\n",
      "Requirement already satisfied: urllib3<1.24,>=1.20 in c:\\users\\cm_be\\anaconda3\\envs\\paysim_3.6\\lib\\site-packages (from botocore<1.12.0,>=1.11.9->boto3->-r requirements.txt (line 3)) (1.23)\n"
     ]
    }
   ],
   "source": [
    "## This is to ensure that the right libraries  are installed...\n",
    "!pip install -r requirements.txt"
   ]
  },
  {
   "cell_type": "code",
   "execution_count": 4,
   "metadata": {},
   "outputs": [
    {
     "name": "stderr",
     "output_type": "stream",
     "text": [
      "A subdirectory or file . already exists.\n",
      "Error occurred while processing: ..\n"
     ]
    }
   ],
   "source": []
  },
  {
   "cell_type": "code",
   "execution_count": 10,
   "metadata": {},
   "outputs": [],
   "source": [
    "import os\n",
    "local_input_zip=os.path.join(tmpdir, \"paysim.zip\")\n",
    "\n",
    "#!aws s3 cp $s3_source_data $local_input_zip"
   ]
  },
  {
   "cell_type": "code",
   "execution_count": 6,
   "metadata": {},
   "outputs": [
    {
     "name": "stderr",
     "output_type": "stream",
     "text": [
      "'unzip' is not recognized as an internal or external command,\n",
      "operable program or batch file.\n"
     ]
    }
   ],
   "source": [
    "!unzip -o $local_input_zip -d $tmpdir"
   ]
  },
  {
   "cell_type": "markdown",
   "metadata": {},
   "source": [
    "## Data Processing"
   ]
  },
  {
   "cell_type": "markdown",
   "metadata": {},
   "source": [
    "### Load data\n",
    "Load the csv file into pandas"
   ]
  },
  {
   "cell_type": "code",
   "execution_count": 11,
   "metadata": {},
   "outputs": [],
   "source": [
    "import pandas as pd\n",
    "import matplotlib.pyplot as plt\n",
    "import seaborn as sns"
   ]
  },
  {
   "cell_type": "markdown",
   "metadata": {},
   "source": [
    "Load the data into pandas"
   ]
  },
  {
   "cell_type": "code",
   "execution_count": 12,
   "metadata": {},
   "outputs": [],
   "source": [
    "data = pd.read_csv(os.path.join(tmpdir,'PS_20174392719_1491204439457_log.csv'))"
   ]
  },
  {
   "cell_type": "markdown",
   "metadata": {},
   "source": [
    "### Explore the dataset "
   ]
  },
  {
   "cell_type": "code",
   "execution_count": 13,
   "metadata": {},
   "outputs": [
    {
     "data": {
      "text/html": [
       "<div>\n",
       "<style scoped>\n",
       "    .dataframe tbody tr th:only-of-type {\n",
       "        vertical-align: middle;\n",
       "    }\n",
       "\n",
       "    .dataframe tbody tr th {\n",
       "        vertical-align: top;\n",
       "    }\n",
       "\n",
       "    .dataframe thead th {\n",
       "        text-align: right;\n",
       "    }\n",
       "</style>\n",
       "<table border=\"1\" class=\"dataframe\">\n",
       "  <thead>\n",
       "    <tr style=\"text-align: right;\">\n",
       "      <th></th>\n",
       "      <th>step</th>\n",
       "      <th>type</th>\n",
       "      <th>amount</th>\n",
       "      <th>nameOrig</th>\n",
       "      <th>oldbalanceOrg</th>\n",
       "      <th>newbalanceOrig</th>\n",
       "      <th>nameDest</th>\n",
       "      <th>oldbalanceDest</th>\n",
       "      <th>newbalanceDest</th>\n",
       "      <th>isFraud</th>\n",
       "      <th>isFlaggedFraud</th>\n",
       "    </tr>\n",
       "  </thead>\n",
       "  <tbody>\n",
       "    <tr>\n",
       "      <th>0</th>\n",
       "      <td>1</td>\n",
       "      <td>PAYMENT</td>\n",
       "      <td>9839.64</td>\n",
       "      <td>C1231006815</td>\n",
       "      <td>170136.00</td>\n",
       "      <td>160296.36</td>\n",
       "      <td>M1979787155</td>\n",
       "      <td>0.0</td>\n",
       "      <td>0.00</td>\n",
       "      <td>0</td>\n",
       "      <td>0</td>\n",
       "    </tr>\n",
       "    <tr>\n",
       "      <th>1</th>\n",
       "      <td>1</td>\n",
       "      <td>PAYMENT</td>\n",
       "      <td>1864.28</td>\n",
       "      <td>C1666544295</td>\n",
       "      <td>21249.00</td>\n",
       "      <td>19384.72</td>\n",
       "      <td>M2044282225</td>\n",
       "      <td>0.0</td>\n",
       "      <td>0.00</td>\n",
       "      <td>0</td>\n",
       "      <td>0</td>\n",
       "    </tr>\n",
       "    <tr>\n",
       "      <th>2</th>\n",
       "      <td>1</td>\n",
       "      <td>TRANSFER</td>\n",
       "      <td>181.00</td>\n",
       "      <td>C1305486145</td>\n",
       "      <td>181.00</td>\n",
       "      <td>0.00</td>\n",
       "      <td>C553264065</td>\n",
       "      <td>0.0</td>\n",
       "      <td>0.00</td>\n",
       "      <td>1</td>\n",
       "      <td>0</td>\n",
       "    </tr>\n",
       "    <tr>\n",
       "      <th>3</th>\n",
       "      <td>1</td>\n",
       "      <td>CASH_OUT</td>\n",
       "      <td>181.00</td>\n",
       "      <td>C840083671</td>\n",
       "      <td>181.00</td>\n",
       "      <td>0.00</td>\n",
       "      <td>C38997010</td>\n",
       "      <td>21182.0</td>\n",
       "      <td>0.00</td>\n",
       "      <td>1</td>\n",
       "      <td>0</td>\n",
       "    </tr>\n",
       "    <tr>\n",
       "      <th>4</th>\n",
       "      <td>1</td>\n",
       "      <td>PAYMENT</td>\n",
       "      <td>11668.14</td>\n",
       "      <td>C2048537720</td>\n",
       "      <td>41554.00</td>\n",
       "      <td>29885.86</td>\n",
       "      <td>M1230701703</td>\n",
       "      <td>0.0</td>\n",
       "      <td>0.00</td>\n",
       "      <td>0</td>\n",
       "      <td>0</td>\n",
       "    </tr>\n",
       "    <tr>\n",
       "      <th>5</th>\n",
       "      <td>1</td>\n",
       "      <td>PAYMENT</td>\n",
       "      <td>7817.71</td>\n",
       "      <td>C90045638</td>\n",
       "      <td>53860.00</td>\n",
       "      <td>46042.29</td>\n",
       "      <td>M573487274</td>\n",
       "      <td>0.0</td>\n",
       "      <td>0.00</td>\n",
       "      <td>0</td>\n",
       "      <td>0</td>\n",
       "    </tr>\n",
       "    <tr>\n",
       "      <th>6</th>\n",
       "      <td>1</td>\n",
       "      <td>PAYMENT</td>\n",
       "      <td>7107.77</td>\n",
       "      <td>C154988899</td>\n",
       "      <td>183195.00</td>\n",
       "      <td>176087.23</td>\n",
       "      <td>M408069119</td>\n",
       "      <td>0.0</td>\n",
       "      <td>0.00</td>\n",
       "      <td>0</td>\n",
       "      <td>0</td>\n",
       "    </tr>\n",
       "    <tr>\n",
       "      <th>7</th>\n",
       "      <td>1</td>\n",
       "      <td>PAYMENT</td>\n",
       "      <td>7861.64</td>\n",
       "      <td>C1912850431</td>\n",
       "      <td>176087.23</td>\n",
       "      <td>168225.59</td>\n",
       "      <td>M633326333</td>\n",
       "      <td>0.0</td>\n",
       "      <td>0.00</td>\n",
       "      <td>0</td>\n",
       "      <td>0</td>\n",
       "    </tr>\n",
       "    <tr>\n",
       "      <th>8</th>\n",
       "      <td>1</td>\n",
       "      <td>PAYMENT</td>\n",
       "      <td>4024.36</td>\n",
       "      <td>C1265012928</td>\n",
       "      <td>2671.00</td>\n",
       "      <td>0.00</td>\n",
       "      <td>M1176932104</td>\n",
       "      <td>0.0</td>\n",
       "      <td>0.00</td>\n",
       "      <td>0</td>\n",
       "      <td>0</td>\n",
       "    </tr>\n",
       "    <tr>\n",
       "      <th>9</th>\n",
       "      <td>1</td>\n",
       "      <td>DEBIT</td>\n",
       "      <td>5337.77</td>\n",
       "      <td>C712410124</td>\n",
       "      <td>41720.00</td>\n",
       "      <td>36382.23</td>\n",
       "      <td>C195600860</td>\n",
       "      <td>41898.0</td>\n",
       "      <td>40348.79</td>\n",
       "      <td>0</td>\n",
       "      <td>0</td>\n",
       "    </tr>\n",
       "  </tbody>\n",
       "</table>\n",
       "</div>"
      ],
      "text/plain": [
       "   step      type    amount     nameOrig  oldbalanceOrg  newbalanceOrig  \\\n",
       "0     1   PAYMENT   9839.64  C1231006815      170136.00       160296.36   \n",
       "1     1   PAYMENT   1864.28  C1666544295       21249.00        19384.72   \n",
       "2     1  TRANSFER    181.00  C1305486145         181.00            0.00   \n",
       "3     1  CASH_OUT    181.00   C840083671         181.00            0.00   \n",
       "4     1   PAYMENT  11668.14  C2048537720       41554.00        29885.86   \n",
       "5     1   PAYMENT   7817.71    C90045638       53860.00        46042.29   \n",
       "6     1   PAYMENT   7107.77   C154988899      183195.00       176087.23   \n",
       "7     1   PAYMENT   7861.64  C1912850431      176087.23       168225.59   \n",
       "8     1   PAYMENT   4024.36  C1265012928        2671.00            0.00   \n",
       "9     1     DEBIT   5337.77   C712410124       41720.00        36382.23   \n",
       "\n",
       "      nameDest  oldbalanceDest  newbalanceDest  isFraud  isFlaggedFraud  \n",
       "0  M1979787155             0.0            0.00        0               0  \n",
       "1  M2044282225             0.0            0.00        0               0  \n",
       "2   C553264065             0.0            0.00        1               0  \n",
       "3    C38997010         21182.0            0.00        1               0  \n",
       "4  M1230701703             0.0            0.00        0               0  \n",
       "5   M573487274             0.0            0.00        0               0  \n",
       "6   M408069119             0.0            0.00        0               0  \n",
       "7   M633326333             0.0            0.00        0               0  \n",
       "8  M1176932104             0.0            0.00        0               0  \n",
       "9   C195600860         41898.0        40348.79        0               0  "
      ]
     },
     "execution_count": 13,
     "metadata": {},
     "output_type": "execute_result"
    }
   ],
   "source": [
    "data.head(n=10)"
   ]
  },
  {
   "cell_type": "code",
   "execution_count": 10,
   "metadata": {},
   "outputs": [
    {
     "data": {
      "text/html": [
       "<div>\n",
       "<style scoped>\n",
       "    .dataframe tbody tr th:only-of-type {\n",
       "        vertical-align: middle;\n",
       "    }\n",
       "\n",
       "    .dataframe tbody tr th {\n",
       "        vertical-align: top;\n",
       "    }\n",
       "\n",
       "    .dataframe thead th {\n",
       "        text-align: right;\n",
       "    }\n",
       "</style>\n",
       "<table border=\"1\" class=\"dataframe\">\n",
       "  <thead>\n",
       "    <tr style=\"text-align: right;\">\n",
       "      <th></th>\n",
       "      <th>step</th>\n",
       "      <th>amount</th>\n",
       "      <th>oldbalanceOrg</th>\n",
       "      <th>newbalanceOrig</th>\n",
       "      <th>oldbalanceDest</th>\n",
       "      <th>newbalanceDest</th>\n",
       "      <th>isFraud</th>\n",
       "      <th>isFlaggedFraud</th>\n",
       "    </tr>\n",
       "  </thead>\n",
       "  <tbody>\n",
       "    <tr>\n",
       "      <th>count</th>\n",
       "      <td>6.362620e+06</td>\n",
       "      <td>6.362620e+06</td>\n",
       "      <td>6.362620e+06</td>\n",
       "      <td>6.362620e+06</td>\n",
       "      <td>6.362620e+06</td>\n",
       "      <td>6.362620e+06</td>\n",
       "      <td>6.362620e+06</td>\n",
       "      <td>6.362620e+06</td>\n",
       "    </tr>\n",
       "    <tr>\n",
       "      <th>mean</th>\n",
       "      <td>2.433972e+02</td>\n",
       "      <td>1.798619e+05</td>\n",
       "      <td>8.338831e+05</td>\n",
       "      <td>8.551137e+05</td>\n",
       "      <td>1.100702e+06</td>\n",
       "      <td>1.224996e+06</td>\n",
       "      <td>1.290820e-03</td>\n",
       "      <td>2.514687e-06</td>\n",
       "    </tr>\n",
       "    <tr>\n",
       "      <th>std</th>\n",
       "      <td>1.423320e+02</td>\n",
       "      <td>6.038582e+05</td>\n",
       "      <td>2.888243e+06</td>\n",
       "      <td>2.924049e+06</td>\n",
       "      <td>3.399180e+06</td>\n",
       "      <td>3.674129e+06</td>\n",
       "      <td>3.590480e-02</td>\n",
       "      <td>1.585775e-03</td>\n",
       "    </tr>\n",
       "    <tr>\n",
       "      <th>min</th>\n",
       "      <td>1.000000e+00</td>\n",
       "      <td>0.000000e+00</td>\n",
       "      <td>0.000000e+00</td>\n",
       "      <td>0.000000e+00</td>\n",
       "      <td>0.000000e+00</td>\n",
       "      <td>0.000000e+00</td>\n",
       "      <td>0.000000e+00</td>\n",
       "      <td>0.000000e+00</td>\n",
       "    </tr>\n",
       "    <tr>\n",
       "      <th>25%</th>\n",
       "      <td>1.560000e+02</td>\n",
       "      <td>1.338957e+04</td>\n",
       "      <td>0.000000e+00</td>\n",
       "      <td>0.000000e+00</td>\n",
       "      <td>0.000000e+00</td>\n",
       "      <td>0.000000e+00</td>\n",
       "      <td>0.000000e+00</td>\n",
       "      <td>0.000000e+00</td>\n",
       "    </tr>\n",
       "    <tr>\n",
       "      <th>50%</th>\n",
       "      <td>2.390000e+02</td>\n",
       "      <td>7.487194e+04</td>\n",
       "      <td>1.420800e+04</td>\n",
       "      <td>0.000000e+00</td>\n",
       "      <td>1.327057e+05</td>\n",
       "      <td>2.146614e+05</td>\n",
       "      <td>0.000000e+00</td>\n",
       "      <td>0.000000e+00</td>\n",
       "    </tr>\n",
       "    <tr>\n",
       "      <th>75%</th>\n",
       "      <td>3.350000e+02</td>\n",
       "      <td>2.087215e+05</td>\n",
       "      <td>1.073152e+05</td>\n",
       "      <td>1.442584e+05</td>\n",
       "      <td>9.430367e+05</td>\n",
       "      <td>1.111909e+06</td>\n",
       "      <td>0.000000e+00</td>\n",
       "      <td>0.000000e+00</td>\n",
       "    </tr>\n",
       "    <tr>\n",
       "      <th>max</th>\n",
       "      <td>7.430000e+02</td>\n",
       "      <td>9.244552e+07</td>\n",
       "      <td>5.958504e+07</td>\n",
       "      <td>4.958504e+07</td>\n",
       "      <td>3.560159e+08</td>\n",
       "      <td>3.561793e+08</td>\n",
       "      <td>1.000000e+00</td>\n",
       "      <td>1.000000e+00</td>\n",
       "    </tr>\n",
       "  </tbody>\n",
       "</table>\n",
       "</div>"
      ],
      "text/plain": [
       "               step        amount  oldbalanceOrg  newbalanceOrig  \\\n",
       "count  6.362620e+06  6.362620e+06   6.362620e+06    6.362620e+06   \n",
       "mean   2.433972e+02  1.798619e+05   8.338831e+05    8.551137e+05   \n",
       "std    1.423320e+02  6.038582e+05   2.888243e+06    2.924049e+06   \n",
       "min    1.000000e+00  0.000000e+00   0.000000e+00    0.000000e+00   \n",
       "25%    1.560000e+02  1.338957e+04   0.000000e+00    0.000000e+00   \n",
       "50%    2.390000e+02  7.487194e+04   1.420800e+04    0.000000e+00   \n",
       "75%    3.350000e+02  2.087215e+05   1.073152e+05    1.442584e+05   \n",
       "max    7.430000e+02  9.244552e+07   5.958504e+07    4.958504e+07   \n",
       "\n",
       "       oldbalanceDest  newbalanceDest       isFraud  isFlaggedFraud  \n",
       "count    6.362620e+06    6.362620e+06  6.362620e+06    6.362620e+06  \n",
       "mean     1.100702e+06    1.224996e+06  1.290820e-03    2.514687e-06  \n",
       "std      3.399180e+06    3.674129e+06  3.590480e-02    1.585775e-03  \n",
       "min      0.000000e+00    0.000000e+00  0.000000e+00    0.000000e+00  \n",
       "25%      0.000000e+00    0.000000e+00  0.000000e+00    0.000000e+00  \n",
       "50%      1.327057e+05    2.146614e+05  0.000000e+00    0.000000e+00  \n",
       "75%      9.430367e+05    1.111909e+06  0.000000e+00    0.000000e+00  \n",
       "max      3.560159e+08    3.561793e+08  1.000000e+00    1.000000e+00  "
      ]
     },
     "execution_count": 10,
     "metadata": {},
     "output_type": "execute_result"
    }
   ],
   "source": [
    "data.describe()"
   ]
  },
  {
   "cell_type": "code",
   "execution_count": 11,
   "metadata": {},
   "outputs": [
    {
     "data": {
      "image/png": "[encoded data removed]",
      "text/plain": [
       "<Figure size 1080x1080 with 9 Axes>"
      ]
     },
     "metadata": {
      "needs_background": "light"
     },
     "output_type": "display_data"
    }
   ],
   "source": [
    "data.hist (bins=50, figsize=(15,15), color = 'green')\n",
    "plt.show()"
   ]
  },
  {
   "cell_type": "markdown",
   "metadata": {},
   "source": [
    "Distribution of transactions wrt to source account"
   ]
  },
  {
   "cell_type": "code",
   "execution_count": 12,
   "metadata": {},
   "outputs": [
    {
     "data": {
      "image/png": "[encoded data removed]",
      "text/plain": [
       "<Figure size 1080x360 with 1 Axes>"
      ]
     },
     "metadata": {
      "needs_background": "light"
     },
     "output_type": "display_data"
    }
   ],
   "source": [
    "data['nameOrig'].value_counts().hist (bins=500, figsize=(15,5), color = 'red')\n",
    "plt.show()"
   ]
  },
  {
   "cell_type": "code",
   "execution_count": 13,
   "metadata": {},
   "outputs": [
    {
     "data": {
      "text/plain": [
       "count    6.353307e+06\n",
       "mean     1.001466e+00\n",
       "std      3.832002e-02\n",
       "min      1.000000e+00\n",
       "25%      1.000000e+00\n",
       "50%      1.000000e+00\n",
       "75%      1.000000e+00\n",
       "max      3.000000e+00\n",
       "Name: nameOrig, dtype: float64"
      ]
     },
     "execution_count": 13,
     "metadata": {},
     "output_type": "execute_result"
    }
   ],
   "source": [
    "data['nameOrig'].value_counts().describe()"
   ]
  },
  {
   "cell_type": "markdown",
   "metadata": {},
   "source": [
    "Distribution of transactions wrt to dest account"
   ]
  },
  {
   "cell_type": "code",
   "execution_count": 14,
   "metadata": {},
   "outputs": [
    {
     "data": {
      "image/png": "[encoded data removed]",
      "text/plain": [
       "<Figure size 1080x360 with 1 Axes>"
      ]
     },
     "metadata": {
      "needs_background": "light"
     },
     "output_type": "display_data"
    }
   ],
   "source": [
    "data['nameDest'].value_counts().hist (bins=500, figsize=(15,5), color = 'green')\n",
    "plt.show()"
   ]
  },
  {
   "cell_type": "code",
   "execution_count": 15,
   "metadata": {},
   "outputs": [
    {
     "data": {
      "text/html": [
       "<div>\n",
       "<style scoped>\n",
       "    .dataframe tbody tr th:only-of-type {\n",
       "        vertical-align: middle;\n",
       "    }\n",
       "\n",
       "    .dataframe tbody tr th {\n",
       "        vertical-align: top;\n",
       "    }\n",
       "\n",
       "    .dataframe thead th {\n",
       "        text-align: right;\n",
       "    }\n",
       "</style>\n",
       "<table border=\"1\" class=\"dataframe\">\n",
       "  <thead>\n",
       "    <tr style=\"text-align: right;\">\n",
       "      <th></th>\n",
       "      <th>step</th>\n",
       "      <th>type</th>\n",
       "      <th>amount</th>\n",
       "      <th>nameOrig</th>\n",
       "      <th>oldbalanceOrg</th>\n",
       "      <th>newbalanceOrig</th>\n",
       "      <th>nameDest</th>\n",
       "      <th>oldbalanceDest</th>\n",
       "      <th>newbalanceDest</th>\n",
       "      <th>isFraud</th>\n",
       "      <th>isFlaggedFraud</th>\n",
       "    </tr>\n",
       "  </thead>\n",
       "  <tbody>\n",
       "    <tr>\n",
       "      <th>2332</th>\n",
       "      <td>1</td>\n",
       "      <td>DEBIT</td>\n",
       "      <td>2655.04</td>\n",
       "      <td>C10001825</td>\n",
       "      <td>21214.00</td>\n",
       "      <td>18558.96</td>\n",
       "      <td>C1850180796</td>\n",
       "      <td>1116396.05</td>\n",
       "      <td>1268668.92</td>\n",
       "      <td>0</td>\n",
       "      <td>0</td>\n",
       "    </tr>\n",
       "    <tr>\n",
       "      <th>1421</th>\n",
       "      <td>1</td>\n",
       "      <td>PAYMENT</td>\n",
       "      <td>2444.49</td>\n",
       "      <td>C1002041276</td>\n",
       "      <td>31454.00</td>\n",
       "      <td>29009.51</td>\n",
       "      <td>M485475507</td>\n",
       "      <td>0.00</td>\n",
       "      <td>0.00</td>\n",
       "      <td>0</td>\n",
       "      <td>0</td>\n",
       "    </tr>\n",
       "    <tr>\n",
       "      <th>1956</th>\n",
       "      <td>1</td>\n",
       "      <td>PAYMENT</td>\n",
       "      <td>1246.74</td>\n",
       "      <td>C1002911155</td>\n",
       "      <td>1468.00</td>\n",
       "      <td>221.26</td>\n",
       "      <td>M1467977993</td>\n",
       "      <td>0.00</td>\n",
       "      <td>0.00</td>\n",
       "      <td>0</td>\n",
       "      <td>0</td>\n",
       "    </tr>\n",
       "    <tr>\n",
       "      <th>100</th>\n",
       "      <td>1</td>\n",
       "      <td>PAYMENT</td>\n",
       "      <td>871.75</td>\n",
       "      <td>C1003206025</td>\n",
       "      <td>19869.00</td>\n",
       "      <td>18997.25</td>\n",
       "      <td>M989889899</td>\n",
       "      <td>0.00</td>\n",
       "      <td>0.00</td>\n",
       "      <td>0</td>\n",
       "      <td>0</td>\n",
       "    </tr>\n",
       "    <tr>\n",
       "      <th>2200</th>\n",
       "      <td>1</td>\n",
       "      <td>PAYMENT</td>\n",
       "      <td>264.93</td>\n",
       "      <td>C1003307628</td>\n",
       "      <td>0.00</td>\n",
       "      <td>0.00</td>\n",
       "      <td>M1595188851</td>\n",
       "      <td>0.00</td>\n",
       "      <td>0.00</td>\n",
       "      <td>0</td>\n",
       "      <td>0</td>\n",
       "    </tr>\n",
       "    <tr>\n",
       "      <th>247</th>\n",
       "      <td>1</td>\n",
       "      <td>PAYMENT</td>\n",
       "      <td>9029.12</td>\n",
       "      <td>C1003755748</td>\n",
       "      <td>25480.00</td>\n",
       "      <td>16450.88</td>\n",
       "      <td>M1414013111</td>\n",
       "      <td>0.00</td>\n",
       "      <td>0.00</td>\n",
       "      <td>0</td>\n",
       "      <td>0</td>\n",
       "    </tr>\n",
       "    <tr>\n",
       "      <th>994</th>\n",
       "      <td>1</td>\n",
       "      <td>PAYMENT</td>\n",
       "      <td>1617.90</td>\n",
       "      <td>C1004430079</td>\n",
       "      <td>507865.00</td>\n",
       "      <td>506247.10</td>\n",
       "      <td>M1379148981</td>\n",
       "      <td>0.00</td>\n",
       "      <td>0.00</td>\n",
       "      <td>0</td>\n",
       "      <td>0</td>\n",
       "    </tr>\n",
       "    <tr>\n",
       "      <th>883</th>\n",
       "      <td>1</td>\n",
       "      <td>CASH_OUT</td>\n",
       "      <td>59390.46</td>\n",
       "      <td>C100445376</td>\n",
       "      <td>0.00</td>\n",
       "      <td>0.00</td>\n",
       "      <td>C977993101</td>\n",
       "      <td>73791.34</td>\n",
       "      <td>965870.05</td>\n",
       "      <td>0</td>\n",
       "      <td>0</td>\n",
       "    </tr>\n",
       "    <tr>\n",
       "      <th>1007</th>\n",
       "      <td>1</td>\n",
       "      <td>PAYMENT</td>\n",
       "      <td>1213.64</td>\n",
       "      <td>C1006624255</td>\n",
       "      <td>86078.00</td>\n",
       "      <td>84864.36</td>\n",
       "      <td>M1721180011</td>\n",
       "      <td>0.00</td>\n",
       "      <td>0.00</td>\n",
       "      <td>0</td>\n",
       "      <td>0</td>\n",
       "    </tr>\n",
       "    <tr>\n",
       "      <th>1297</th>\n",
       "      <td>1</td>\n",
       "      <td>CASH_IN</td>\n",
       "      <td>377287.80</td>\n",
       "      <td>C100708535</td>\n",
       "      <td>5110945.41</td>\n",
       "      <td>5488233.21</td>\n",
       "      <td>C985934102</td>\n",
       "      <td>2256095.33</td>\n",
       "      <td>971418.91</td>\n",
       "      <td>0</td>\n",
       "      <td>0</td>\n",
       "    </tr>\n",
       "    <tr>\n",
       "      <th>2465</th>\n",
       "      <td>1</td>\n",
       "      <td>PAYMENT</td>\n",
       "      <td>5983.51</td>\n",
       "      <td>C1007402143</td>\n",
       "      <td>48974.00</td>\n",
       "      <td>42990.49</td>\n",
       "      <td>M320321288</td>\n",
       "      <td>0.00</td>\n",
       "      <td>0.00</td>\n",
       "      <td>0</td>\n",
       "      <td>0</td>\n",
       "    </tr>\n",
       "    <tr>\n",
       "      <th>808</th>\n",
       "      <td>1</td>\n",
       "      <td>PAYMENT</td>\n",
       "      <td>553.25</td>\n",
       "      <td>C1007660652</td>\n",
       "      <td>7522.00</td>\n",
       "      <td>6968.75</td>\n",
       "      <td>M1276544608</td>\n",
       "      <td>0.00</td>\n",
       "      <td>0.00</td>\n",
       "      <td>0</td>\n",
       "      <td>0</td>\n",
       "    </tr>\n",
       "    <tr>\n",
       "      <th>1605</th>\n",
       "      <td>1</td>\n",
       "      <td>PAYMENT</td>\n",
       "      <td>4018.12</td>\n",
       "      <td>C1008608255</td>\n",
       "      <td>140777.00</td>\n",
       "      <td>136758.88</td>\n",
       "      <td>M216746962</td>\n",
       "      <td>0.00</td>\n",
       "      <td>0.00</td>\n",
       "      <td>0</td>\n",
       "      <td>0</td>\n",
       "    </tr>\n",
       "    <tr>\n",
       "      <th>1446</th>\n",
       "      <td>1</td>\n",
       "      <td>PAYMENT</td>\n",
       "      <td>2738.86</td>\n",
       "      <td>C1008612116</td>\n",
       "      <td>12622.00</td>\n",
       "      <td>9883.14</td>\n",
       "      <td>M1266093632</td>\n",
       "      <td>0.00</td>\n",
       "      <td>0.00</td>\n",
       "      <td>0</td>\n",
       "      <td>0</td>\n",
       "    </tr>\n",
       "    <tr>\n",
       "      <th>1892</th>\n",
       "      <td>1</td>\n",
       "      <td>PAYMENT</td>\n",
       "      <td>2432.88</td>\n",
       "      <td>C1009218257</td>\n",
       "      <td>12946.00</td>\n",
       "      <td>10513.12</td>\n",
       "      <td>M936380963</td>\n",
       "      <td>0.00</td>\n",
       "      <td>0.00</td>\n",
       "      <td>0</td>\n",
       "      <td>0</td>\n",
       "    </tr>\n",
       "    <tr>\n",
       "      <th>1406</th>\n",
       "      <td>1</td>\n",
       "      <td>CASH_OUT</td>\n",
       "      <td>204691.97</td>\n",
       "      <td>C1009916891</td>\n",
       "      <td>11535.71</td>\n",
       "      <td>0.00</td>\n",
       "      <td>C1068824137</td>\n",
       "      <td>564706.83</td>\n",
       "      <td>265092.36</td>\n",
       "      <td>0</td>\n",
       "      <td>0</td>\n",
       "    </tr>\n",
       "    <tr>\n",
       "      <th>589</th>\n",
       "      <td>1</td>\n",
       "      <td>DEBIT</td>\n",
       "      <td>12154.70</td>\n",
       "      <td>C1011044643</td>\n",
       "      <td>39699.00</td>\n",
       "      <td>27544.30</td>\n",
       "      <td>C451111351</td>\n",
       "      <td>2051287.58</td>\n",
       "      <td>3940085.21</td>\n",
       "      <td>0</td>\n",
       "      <td>0</td>\n",
       "    </tr>\n",
       "    <tr>\n",
       "      <th>1830</th>\n",
       "      <td>1</td>\n",
       "      <td>CASH_OUT</td>\n",
       "      <td>41295.56</td>\n",
       "      <td>C1011104118</td>\n",
       "      <td>20720.74</td>\n",
       "      <td>0.00</td>\n",
       "      <td>C932583850</td>\n",
       "      <td>2614230.50</td>\n",
       "      <td>2719172.89</td>\n",
       "      <td>0</td>\n",
       "      <td>0</td>\n",
       "    </tr>\n",
       "    <tr>\n",
       "      <th>1552</th>\n",
       "      <td>1</td>\n",
       "      <td>PAYMENT</td>\n",
       "      <td>12123.91</td>\n",
       "      <td>C1011481270</td>\n",
       "      <td>0.00</td>\n",
       "      <td>0.00</td>\n",
       "      <td>M1365197105</td>\n",
       "      <td>0.00</td>\n",
       "      <td>0.00</td>\n",
       "      <td>0</td>\n",
       "      <td>0</td>\n",
       "    </tr>\n",
       "    <tr>\n",
       "      <th>1717</th>\n",
       "      <td>1</td>\n",
       "      <td>CASH_IN</td>\n",
       "      <td>198443.49</td>\n",
       "      <td>C1011599868</td>\n",
       "      <td>4045814.13</td>\n",
       "      <td>4244257.62</td>\n",
       "      <td>C2083117811</td>\n",
       "      <td>452950.35</td>\n",
       "      <td>290772.60</td>\n",
       "      <td>0</td>\n",
       "      <td>0</td>\n",
       "    </tr>\n",
       "  </tbody>\n",
       "</table>\n",
       "</div>"
      ],
      "text/plain": [
       "      step      type     amount     nameOrig  oldbalanceOrg  newbalanceOrig  \\\n",
       "2332     1     DEBIT    2655.04    C10001825       21214.00        18558.96   \n",
       "1421     1   PAYMENT    2444.49  C1002041276       31454.00        29009.51   \n",
       "1956     1   PAYMENT    1246.74  C1002911155        1468.00          221.26   \n",
       "100      1   PAYMENT     871.75  C1003206025       19869.00        18997.25   \n",
       "2200     1   PAYMENT     264.93  C1003307628           0.00            0.00   \n",
       "247      1   PAYMENT    9029.12  C1003755748       25480.00        16450.88   \n",
       "994      1   PAYMENT    1617.90  C1004430079      507865.00       506247.10   \n",
       "883      1  CASH_OUT   59390.46   C100445376           0.00            0.00   \n",
       "1007     1   PAYMENT    1213.64  C1006624255       86078.00        84864.36   \n",
       "1297     1   CASH_IN  377287.80   C100708535     5110945.41      5488233.21   \n",
       "2465     1   PAYMENT    5983.51  C1007402143       48974.00        42990.49   \n",
       "808      1   PAYMENT     553.25  C1007660652        7522.00         6968.75   \n",
       "1605     1   PAYMENT    4018.12  C1008608255      140777.00       136758.88   \n",
       "1446     1   PAYMENT    2738.86  C1008612116       12622.00         9883.14   \n",
       "1892     1   PAYMENT    2432.88  C1009218257       12946.00        10513.12   \n",
       "1406     1  CASH_OUT  204691.97  C1009916891       11535.71            0.00   \n",
       "589      1     DEBIT   12154.70  C1011044643       39699.00        27544.30   \n",
       "1830     1  CASH_OUT   41295.56  C1011104118       20720.74            0.00   \n",
       "1552     1   PAYMENT   12123.91  C1011481270           0.00            0.00   \n",
       "1717     1   CASH_IN  198443.49  C1011599868     4045814.13      4244257.62   \n",
       "\n",
       "         nameDest  oldbalanceDest  newbalanceDest  isFraud  isFlaggedFraud  \n",
       "2332  C1850180796      1116396.05      1268668.92        0               0  \n",
       "1421   M485475507            0.00            0.00        0               0  \n",
       "1956  M1467977993            0.00            0.00        0               0  \n",
       "100    M989889899            0.00            0.00        0               0  \n",
       "2200  M1595188851            0.00            0.00        0               0  \n",
       "247   M1414013111            0.00            0.00        0               0  \n",
       "994   M1379148981            0.00            0.00        0               0  \n",
       "883    C977993101        73791.34       965870.05        0               0  \n",
       "1007  M1721180011            0.00            0.00        0               0  \n",
       "1297   C985934102      2256095.33       971418.91        0               0  \n",
       "2465   M320321288            0.00            0.00        0               0  \n",
       "808   M1276544608            0.00            0.00        0               0  \n",
       "1605   M216746962            0.00            0.00        0               0  \n",
       "1446  M1266093632            0.00            0.00        0               0  \n",
       "1892   M936380963            0.00            0.00        0               0  \n",
       "1406  C1068824137       564706.83       265092.36        0               0  \n",
       "589    C451111351      2051287.58      3940085.21        0               0  \n",
       "1830   C932583850      2614230.50      2719172.89        0               0  \n",
       "1552  M1365197105            0.00            0.00        0               0  \n",
       "1717  C2083117811       452950.35       290772.60        0               0  "
      ]
     },
     "execution_count": 15,
     "metadata": {},
     "output_type": "execute_result"
    }
   ],
   "source": [
    "data.sort_values(by=['step', 'nameOrig']).head(n=20)"
   ]
  },
  {
   "cell_type": "markdown",
   "metadata": {},
   "source": [
    "Explore the class distribution"
   ]
  },
  {
   "cell_type": "code",
   "execution_count": 16,
   "metadata": {},
   "outputs": [
    {
     "data": {
      "image/png": "[encoded data removed]",
      "text/plain": [
       "<Figure size 360x360 with 1 Axes>"
      ]
     },
     "metadata": {},
     "output_type": "display_data"
    }
   ],
   "source": [
    "data.isFraud.value_counts().plot.pie(autopct='%.2f',figsize=(5, 5), colors=[\"green\",\"cyan\"], explode=[0,.1])\n",
    "plt.title('Class Distribution')\n",
    "plt.tight_layout()"
   ]
  },
  {
   "cell_type": "markdown",
   "metadata": {},
   "source": [
    "#### Highly imbalanced dataset\n",
    "Since this is a highly imbalanced dataset, use AUCPR instead of AUC under ROC as the eval metric"
   ]
  },
  {
   "cell_type": "markdown",
   "metadata": {},
   "source": [
    "View Correlation heatmap"
   ]
  },
  {
   "cell_type": "code",
   "execution_count": 17,
   "metadata": {
    "scrolled": true
   },
   "outputs": [
    {
     "data": {
      "image/png": "[encoded data removed]",
      "text/plain": [
       "<Figure size 1080x360 with 4 Axes>"
      ]
     },
     "metadata": {
      "needs_background": "light"
     },
     "output_type": "display_data"
    }
   ],
   "source": [
    "fig, ax = plt.subplots( 1,2, figsize=(15,5))\n",
    "\n",
    "ax[0].set_title(\"Fraudent Records correlation\")\n",
    "sns.heatmap(data.query('isFraud == 1').drop(['isFraud', 'isFlaggedFraud'],1).corr(),  cmap=\"OrRd\", ax=ax[0])\n",
    "\n",
    "ax[1].set_title(\"Non-fraudent Records correlation\")\n",
    "sns.heatmap(data.query('isFraud == 0').drop(['isFraud', 'isFlaggedFraud'],1).corr(),  cmap=\"OrRd\", ax=ax[1])\n",
    "plt.show()"
   ]
  },
  {
   "cell_type": "markdown",
   "metadata": {},
   "source": [
    "#### Source Amount and destination difference in balance dont match\n",
    "When the record has the isFlaggedFraud = 1, this means that the transaction was detected and stopped from being processed, that is the reason why it didn't affect the account destination/origin (previous value). \n",
    "\n",
    "**Note:** there is not record of balance from clients that start with M (Merchants).\n",
    "\n"
   ]
  },
  {
   "cell_type": "markdown",
   "metadata": {},
   "source": [
    "### Feature Engineering"
   ]
  },
  {
   "cell_type": "markdown",
   "metadata": {},
   "source": [
    "#### Drop Correlated features"
   ]
  },
  {
   "cell_type": "code",
   "execution_count": 14,
   "metadata": {},
   "outputs": [],
   "source": [
    "data_clean = data\n",
    "data_clean = data_clean.drop([\"newbalanceOrig\", \"newbalanceDest\", \"isFlaggedFraud\" ],1)"
   ]
  },
  {
   "cell_type": "markdown",
   "metadata": {},
   "source": [
    "**Note** If you dont remove the newbalanceDest you will get better results > 90% AUCPR. But I would think that is not entirely fair because in the dataset the source amount transfered doesnt add up to the destination increase in balance if the transfer is stopped. This happens whena the banks modelling system which detects a potential fraud transaction"
   ]
  },
  {
   "cell_type": "markdown",
   "metadata": {},
   "source": [
    "#### Add new features"
   ]
  },
  {
   "cell_type": "code",
   "execution_count": 15,
   "metadata": {},
   "outputs": [],
   "source": [
    "data_clean[\"isMerchantTransOrig\"] = data_clean[\"nameOrig\"].str.startswith('M').astype(int) \n",
    "data_clean[\"isMerchantTransDest\"] = data_clean[\"nameDest\"].str.startswith('M').astype(int) \n",
    "\n",
    "data_clean[\"isMerchantTrans\"] = data_clean[\"isMerchantTransOrig\"] |  data_clean[\"isMerchantTransDest\"]"
   ]
  },
  {
   "cell_type": "code",
   "execution_count": 20,
   "metadata": {},
   "outputs": [
    {
     "data": {
      "image/png": "[encoded data removed]",
      "text/plain": [
       "<Figure size 1080x360 with 4 Axes>"
      ]
     },
     "metadata": {
      "needs_background": "light"
     },
     "output_type": "display_data"
    }
   ],
   "source": [
    "fig, ax = plt.subplots( 1,2, figsize=(15,5))\n",
    "\n",
    "\n",
    "ax[0].set_title(\"Fraudent Records correlation after clean\")\n",
    "sns.heatmap(data_clean.query('isFraud == 1').drop(['isFraud'],1).corr(),  cmap=\"OrRd\", ax=ax[0])\n",
    "\n",
    "ax[1].set_title(\"Non-fraudent Records correlation after clean\")\n",
    "sns.heatmap(data_clean.query('isFraud == 0').drop(['isFraud'],1).corr(),  cmap=\"OrRd\", ax=ax[1])\n",
    "plt.show()"
   ]
  },
  {
   "cell_type": "markdown",
   "metadata": {},
   "source": [
    "### Prepare dataset for SageMaker XGBoost"
   ]
  },
  {
   "cell_type": "markdown",
   "metadata": {},
   "source": [
    "#### Column order - Labels in first column\n",
    "Recorder columns such that the label is the first column. This is because of the format expected by XGBoost SageMaker implementation, for more details see https://docs.aws.amazon.com/sagemaker/latest/dg/xgboost.html"
   ]
  },
  {
   "cell_type": "code",
   "execution_count": 16,
   "metadata": {},
   "outputs": [
    {
     "data": {
      "text/html": [
       "<div>\n",
       "<style scoped>\n",
       "    .dataframe tbody tr th:only-of-type {\n",
       "        vertical-align: middle;\n",
       "    }\n",
       "\n",
       "    .dataframe tbody tr th {\n",
       "        vertical-align: top;\n",
       "    }\n",
       "\n",
       "    .dataframe thead th {\n",
       "        text-align: right;\n",
       "    }\n",
       "</style>\n",
       "<table border=\"1\" class=\"dataframe\">\n",
       "  <thead>\n",
       "    <tr style=\"text-align: right;\">\n",
       "      <th></th>\n",
       "      <th>isFraud</th>\n",
       "      <th>step</th>\n",
       "      <th>type</th>\n",
       "      <th>amount</th>\n",
       "      <th>nameOrig</th>\n",
       "      <th>oldbalanceOrg</th>\n",
       "      <th>nameDest</th>\n",
       "      <th>oldbalanceDest</th>\n",
       "      <th>isMerchantTransOrig</th>\n",
       "      <th>isMerchantTransDest</th>\n",
       "      <th>isMerchantTrans</th>\n",
       "    </tr>\n",
       "  </thead>\n",
       "  <tbody>\n",
       "    <tr>\n",
       "      <th>0</th>\n",
       "      <td>0</td>\n",
       "      <td>1</td>\n",
       "      <td>PAYMENT</td>\n",
       "      <td>9839.64</td>\n",
       "      <td>C1231006815</td>\n",
       "      <td>170136.0</td>\n",
       "      <td>M1979787155</td>\n",
       "      <td>0.0</td>\n",
       "      <td>0</td>\n",
       "      <td>1</td>\n",
       "      <td>1</td>\n",
       "    </tr>\n",
       "    <tr>\n",
       "      <th>1</th>\n",
       "      <td>0</td>\n",
       "      <td>1</td>\n",
       "      <td>PAYMENT</td>\n",
       "      <td>1864.28</td>\n",
       "      <td>C1666544295</td>\n",
       "      <td>21249.0</td>\n",
       "      <td>M2044282225</td>\n",
       "      <td>0.0</td>\n",
       "      <td>0</td>\n",
       "      <td>1</td>\n",
       "      <td>1</td>\n",
       "    </tr>\n",
       "    <tr>\n",
       "      <th>2</th>\n",
       "      <td>1</td>\n",
       "      <td>1</td>\n",
       "      <td>TRANSFER</td>\n",
       "      <td>181.00</td>\n",
       "      <td>C1305486145</td>\n",
       "      <td>181.0</td>\n",
       "      <td>C553264065</td>\n",
       "      <td>0.0</td>\n",
       "      <td>0</td>\n",
       "      <td>0</td>\n",
       "      <td>0</td>\n",
       "    </tr>\n",
       "    <tr>\n",
       "      <th>3</th>\n",
       "      <td>1</td>\n",
       "      <td>1</td>\n",
       "      <td>CASH_OUT</td>\n",
       "      <td>181.00</td>\n",
       "      <td>C840083671</td>\n",
       "      <td>181.0</td>\n",
       "      <td>C38997010</td>\n",
       "      <td>21182.0</td>\n",
       "      <td>0</td>\n",
       "      <td>0</td>\n",
       "      <td>0</td>\n",
       "    </tr>\n",
       "    <tr>\n",
       "      <th>4</th>\n",
       "      <td>0</td>\n",
       "      <td>1</td>\n",
       "      <td>PAYMENT</td>\n",
       "      <td>11668.14</td>\n",
       "      <td>C2048537720</td>\n",
       "      <td>41554.0</td>\n",
       "      <td>M1230701703</td>\n",
       "      <td>0.0</td>\n",
       "      <td>0</td>\n",
       "      <td>1</td>\n",
       "      <td>1</td>\n",
       "    </tr>\n",
       "  </tbody>\n",
       "</table>\n",
       "</div>"
      ],
      "text/plain": [
       "   isFraud  step      type    amount     nameOrig  oldbalanceOrg     nameDest  \\\n",
       "0        0     1   PAYMENT   9839.64  C1231006815       170136.0  M1979787155   \n",
       "1        0     1   PAYMENT   1864.28  C1666544295        21249.0  M2044282225   \n",
       "2        1     1  TRANSFER    181.00  C1305486145          181.0   C553264065   \n",
       "3        1     1  CASH_OUT    181.00   C840083671          181.0    C38997010   \n",
       "4        0     1   PAYMENT  11668.14  C2048537720        41554.0  M1230701703   \n",
       "\n",
       "   oldbalanceDest  isMerchantTransOrig  isMerchantTransDest  isMerchantTrans  \n",
       "0             0.0                    0                    1                1  \n",
       "1             0.0                    0                    1                1  \n",
       "2             0.0                    0                    0                0  \n",
       "3         21182.0                    0                    0                0  \n",
       "4             0.0                    0                    1                1  "
      ]
     },
     "execution_count": 16,
     "metadata": {},
     "output_type": "execute_result"
    }
   ],
   "source": [
    "cols = data_clean.drop([\"isFraud\"],1).columns.tolist()\n",
    "cols.insert(0, \"isFraud\")\n",
    "data_clean = data_clean[cols]\n",
    "data_clean.head(n=5)"
   ]
  },
  {
   "cell_type": "markdown",
   "metadata": {},
   "source": [
    "#### Unimportant non numerical column drop\n",
    "XGBoost only works with numerical values, drop non-numerical columns source/des accounts "
   ]
  },
  {
   "cell_type": "code",
   "execution_count": 17,
   "metadata": {},
   "outputs": [],
   "source": [
    "data_clean = data_clean.drop([ 'nameOrig', 'nameDest'],1)"
   ]
  },
  {
   "cell_type": "markdown",
   "metadata": {},
   "source": [
    "#### Onehot encode categorical columns \n",
    "XG boost only works with numerical values, so translate categorical columns into one-hot vector"
   ]
  },
  {
   "cell_type": "code",
   "execution_count": 18,
   "metadata": {
    "scrolled": true
   },
   "outputs": [
    {
     "data": {
      "text/html": [
       "<div>\n",
       "<style scoped>\n",
       "    .dataframe tbody tr th:only-of-type {\n",
       "        vertical-align: middle;\n",
       "    }\n",
       "\n",
       "    .dataframe tbody tr th {\n",
       "        vertical-align: top;\n",
       "    }\n",
       "\n",
       "    .dataframe thead th {\n",
       "        text-align: right;\n",
       "    }\n",
       "</style>\n",
       "<table border=\"1\" class=\"dataframe\">\n",
       "  <thead>\n",
       "    <tr style=\"text-align: right;\">\n",
       "      <th></th>\n",
       "      <th>isFraud</th>\n",
       "      <th>step</th>\n",
       "      <th>amount</th>\n",
       "      <th>oldbalanceOrg</th>\n",
       "      <th>oldbalanceDest</th>\n",
       "      <th>isMerchantTransOrig</th>\n",
       "      <th>isMerchantTransDest</th>\n",
       "      <th>isMerchantTrans</th>\n",
       "      <th>transaction_type_CASH_IN</th>\n",
       "      <th>transaction_type_CASH_OUT</th>\n",
       "      <th>transaction_type_DEBIT</th>\n",
       "      <th>transaction_type_PAYMENT</th>\n",
       "      <th>transaction_type_TRANSFER</th>\n",
       "    </tr>\n",
       "  </thead>\n",
       "  <tbody>\n",
       "    <tr>\n",
       "      <th>0</th>\n",
       "      <td>0</td>\n",
       "      <td>1</td>\n",
       "      <td>9839.64</td>\n",
       "      <td>170136.0</td>\n",
       "      <td>0.0</td>\n",
       "      <td>0</td>\n",
       "      <td>1</td>\n",
       "      <td>1</td>\n",
       "      <td>0</td>\n",
       "      <td>0</td>\n",
       "      <td>0</td>\n",
       "      <td>1</td>\n",
       "      <td>0</td>\n",
       "    </tr>\n",
       "    <tr>\n",
       "      <th>1</th>\n",
       "      <td>0</td>\n",
       "      <td>1</td>\n",
       "      <td>1864.28</td>\n",
       "      <td>21249.0</td>\n",
       "      <td>0.0</td>\n",
       "      <td>0</td>\n",
       "      <td>1</td>\n",
       "      <td>1</td>\n",
       "      <td>0</td>\n",
       "      <td>0</td>\n",
       "      <td>0</td>\n",
       "      <td>1</td>\n",
       "      <td>0</td>\n",
       "    </tr>\n",
       "    <tr>\n",
       "      <th>2</th>\n",
       "      <td>1</td>\n",
       "      <td>1</td>\n",
       "      <td>181.00</td>\n",
       "      <td>181.0</td>\n",
       "      <td>0.0</td>\n",
       "      <td>0</td>\n",
       "      <td>0</td>\n",
       "      <td>0</td>\n",
       "      <td>0</td>\n",
       "      <td>0</td>\n",
       "      <td>0</td>\n",
       "      <td>0</td>\n",
       "      <td>1</td>\n",
       "    </tr>\n",
       "    <tr>\n",
       "      <th>3</th>\n",
       "      <td>1</td>\n",
       "      <td>1</td>\n",
       "      <td>181.00</td>\n",
       "      <td>181.0</td>\n",
       "      <td>21182.0</td>\n",
       "      <td>0</td>\n",
       "      <td>0</td>\n",
       "      <td>0</td>\n",
       "      <td>0</td>\n",
       "      <td>1</td>\n",
       "      <td>0</td>\n",
       "      <td>0</td>\n",
       "      <td>0</td>\n",
       "    </tr>\n",
       "    <tr>\n",
       "      <th>4</th>\n",
       "      <td>0</td>\n",
       "      <td>1</td>\n",
       "      <td>11668.14</td>\n",
       "      <td>41554.0</td>\n",
       "      <td>0.0</td>\n",
       "      <td>0</td>\n",
       "      <td>1</td>\n",
       "      <td>1</td>\n",
       "      <td>0</td>\n",
       "      <td>0</td>\n",
       "      <td>0</td>\n",
       "      <td>1</td>\n",
       "      <td>0</td>\n",
       "    </tr>\n",
       "  </tbody>\n",
       "</table>\n",
       "</div>"
      ],
      "text/plain": [
       "   isFraud  step    amount  oldbalanceOrg  oldbalanceDest  \\\n",
       "0        0     1   9839.64       170136.0             0.0   \n",
       "1        0     1   1864.28        21249.0             0.0   \n",
       "2        1     1    181.00          181.0             0.0   \n",
       "3        1     1    181.00          181.0         21182.0   \n",
       "4        0     1  11668.14        41554.0             0.0   \n",
       "\n",
       "   isMerchantTransOrig  isMerchantTransDest  isMerchantTrans  \\\n",
       "0                    0                    1                1   \n",
       "1                    0                    1                1   \n",
       "2                    0                    0                0   \n",
       "3                    0                    0                0   \n",
       "4                    0                    1                1   \n",
       "\n",
       "   transaction_type_CASH_IN  transaction_type_CASH_OUT  \\\n",
       "0                         0                          0   \n",
       "1                         0                          0   \n",
       "2                         0                          0   \n",
       "3                         0                          1   \n",
       "4                         0                          0   \n",
       "\n",
       "   transaction_type_DEBIT  transaction_type_PAYMENT  transaction_type_TRANSFER  \n",
       "0                       0                         1                          0  \n",
       "1                       0                         1                          0  \n",
       "2                       0                         0                          1  \n",
       "3                       0                         0                          0  \n",
       "4                       0                         1                          0  "
      ]
     },
     "execution_count": 18,
     "metadata": {},
     "output_type": "execute_result"
    }
   ],
   "source": [
    "data_clean =  pd.get_dummies(data_clean,prefix=['transaction_type'],  columns=['type']) \n",
    "data_clean.head(n=5)"
   ]
  },
  {
   "cell_type": "markdown",
   "metadata": {},
   "source": [
    "#### Train test set split\n",
    "Split the dataset into train, test and validation set"
   ]
  },
  {
   "cell_type": "code",
   "execution_count": 19,
   "metadata": {},
   "outputs": [],
   "source": [
    "import sklearn\n",
    "from sklearn.model_selection import train_test_split, learning_curve\n",
    "\n",
    "train_val, test = train_test_split(data_clean, test_size = 0.2, random_state = 777)\n",
    "train, validation = train_test_split(train_val, test_size = 0.2, random_state = 777)"
   ]
  },
  {
   "cell_type": "code",
   "execution_count": 20,
   "metadata": {},
   "outputs": [
    {
     "data": {
      "image/png": "[encoded data removed]",
      "text/plain": [
       "<Figure size 1080x360 with 3 Axes>"
      ]
     },
     "metadata": {},
     "output_type": "display_data"
    }
   ],
   "source": [
    "fig, ax = plt.subplots( 1,3, figsize=(15,5))\n",
    "\n",
    "train.isFraud.value_counts().plot.pie(autopct='%.2f', ax = ax[0], colors=[\"green\",\"cyan\"], explode=[0,.1])\n",
    "ax[0].set_title('Train fraud distribution ({} records)'.format(train.shape[0]))\n",
    "\n",
    "test.isFraud.value_counts().plot.pie(autopct='%.2f', ax = ax[1], colors=[\"green\",\"cyan\"], explode=[0,.1])\n",
    "ax[1].set_title('Test fraud distribution ({} records)'.format(test.shape[0]))\n",
    "\n",
    "validation.isFraud.value_counts().plot.pie(autopct='%.2f', ax = ax[2], colors=[\"green\",\"cyan\"], explode=[0,.1])\n",
    "ax[2].set_title('Validation fraud distribution ({} records)'.format(validation.shape[0]))\n",
    "\n",
    "plt.show() "
   ]
  },
  {
   "cell_type": "code",
   "execution_count": 21,
   "metadata": {},
   "outputs": [
    {
     "data": {
      "text/html": [
       "<div>\n",
       "<style scoped>\n",
       "    .dataframe tbody tr th:only-of-type {\n",
       "        vertical-align: middle;\n",
       "    }\n",
       "\n",
       "    .dataframe tbody tr th {\n",
       "        vertical-align: top;\n",
       "    }\n",
       "\n",
       "    .dataframe thead th {\n",
       "        text-align: right;\n",
       "    }\n",
       "</style>\n",
       "<table border=\"1\" class=\"dataframe\">\n",
       "  <thead>\n",
       "    <tr style=\"text-align: right;\">\n",
       "      <th></th>\n",
       "      <th>isFraud</th>\n",
       "      <th>step</th>\n",
       "      <th>amount</th>\n",
       "      <th>oldbalanceOrg</th>\n",
       "      <th>oldbalanceDest</th>\n",
       "      <th>isMerchantTransOrig</th>\n",
       "      <th>isMerchantTransDest</th>\n",
       "      <th>isMerchantTrans</th>\n",
       "      <th>transaction_type_CASH_IN</th>\n",
       "      <th>transaction_type_CASH_OUT</th>\n",
       "      <th>transaction_type_DEBIT</th>\n",
       "      <th>transaction_type_PAYMENT</th>\n",
       "      <th>transaction_type_TRANSFER</th>\n",
       "    </tr>\n",
       "  </thead>\n",
       "  <tbody>\n",
       "    <tr>\n",
       "      <th>2434049</th>\n",
       "      <td>0</td>\n",
       "      <td>203</td>\n",
       "      <td>16894.96</td>\n",
       "      <td>443240.04</td>\n",
       "      <td>197879.16</td>\n",
       "      <td>0</td>\n",
       "      <td>0</td>\n",
       "      <td>0</td>\n",
       "      <td>1</td>\n",
       "      <td>0</td>\n",
       "      <td>0</td>\n",
       "      <td>0</td>\n",
       "      <td>0</td>\n",
       "    </tr>\n",
       "    <tr>\n",
       "      <th>6069079</th>\n",
       "      <td>0</td>\n",
       "      <td>514</td>\n",
       "      <td>2803.27</td>\n",
       "      <td>0.00</td>\n",
       "      <td>0.00</td>\n",
       "      <td>0</td>\n",
       "      <td>1</td>\n",
       "      <td>1</td>\n",
       "      <td>0</td>\n",
       "      <td>0</td>\n",
       "      <td>0</td>\n",
       "      <td>1</td>\n",
       "      <td>0</td>\n",
       "    </tr>\n",
       "    <tr>\n",
       "      <th>3941628</th>\n",
       "      <td>0</td>\n",
       "      <td>286</td>\n",
       "      <td>12518.66</td>\n",
       "      <td>50718.00</td>\n",
       "      <td>0.00</td>\n",
       "      <td>0</td>\n",
       "      <td>1</td>\n",
       "      <td>1</td>\n",
       "      <td>0</td>\n",
       "      <td>0</td>\n",
       "      <td>0</td>\n",
       "      <td>1</td>\n",
       "      <td>0</td>\n",
       "    </tr>\n",
       "    <tr>\n",
       "      <th>2651943</th>\n",
       "      <td>0</td>\n",
       "      <td>209</td>\n",
       "      <td>25650.28</td>\n",
       "      <td>0.00</td>\n",
       "      <td>1384324.66</td>\n",
       "      <td>0</td>\n",
       "      <td>0</td>\n",
       "      <td>0</td>\n",
       "      <td>0</td>\n",
       "      <td>1</td>\n",
       "      <td>0</td>\n",
       "      <td>0</td>\n",
       "      <td>0</td>\n",
       "    </tr>\n",
       "    <tr>\n",
       "      <th>3384259</th>\n",
       "      <td>0</td>\n",
       "      <td>255</td>\n",
       "      <td>418089.50</td>\n",
       "      <td>7037.00</td>\n",
       "      <td>0.00</td>\n",
       "      <td>0</td>\n",
       "      <td>0</td>\n",
       "      <td>0</td>\n",
       "      <td>0</td>\n",
       "      <td>0</td>\n",
       "      <td>0</td>\n",
       "      <td>0</td>\n",
       "      <td>1</td>\n",
       "    </tr>\n",
       "  </tbody>\n",
       "</table>\n",
       "</div>"
      ],
      "text/plain": [
       "         isFraud  step     amount  oldbalanceOrg  oldbalanceDest  \\\n",
       "2434049        0   203   16894.96      443240.04       197879.16   \n",
       "6069079        0   514    2803.27           0.00            0.00   \n",
       "3941628        0   286   12518.66       50718.00            0.00   \n",
       "2651943        0   209   25650.28           0.00      1384324.66   \n",
       "3384259        0   255  418089.50        7037.00            0.00   \n",
       "\n",
       "         isMerchantTransOrig  isMerchantTransDest  isMerchantTrans  \\\n",
       "2434049                    0                    0                0   \n",
       "6069079                    0                    1                1   \n",
       "3941628                    0                    1                1   \n",
       "2651943                    0                    0                0   \n",
       "3384259                    0                    0                0   \n",
       "\n",
       "         transaction_type_CASH_IN  transaction_type_CASH_OUT  \\\n",
       "2434049                         1                          0   \n",
       "6069079                         0                          0   \n",
       "3941628                         0                          0   \n",
       "2651943                         0                          1   \n",
       "3384259                         0                          0   \n",
       "\n",
       "         transaction_type_DEBIT  transaction_type_PAYMENT  \\\n",
       "2434049                       0                         0   \n",
       "6069079                       0                         1   \n",
       "3941628                       0                         1   \n",
       "2651943                       0                         0   \n",
       "3384259                       0                         0   \n",
       "\n",
       "         transaction_type_TRANSFER  \n",
       "2434049                          0  \n",
       "6069079                          0  \n",
       "3941628                          0  \n",
       "2651943                          0  \n",
       "3384259                          1  "
      ]
     },
     "execution_count": 21,
     "metadata": {},
     "output_type": "execute_result"
    }
   ],
   "source": [
    "train.head()"
   ]
  },
  {
   "cell_type": "code",
   "execution_count": 22,
   "metadata": {},
   "outputs": [],
   "source": [
    "import os\n",
    "\n",
    "trainfile=os.path.join(tmpdir, \"train_paysim.csv\")\n",
    "testfile=os.path.join(tmpdir,\"test_paysim.csv\")\n",
    "validationfile=os.path.join(tmpdir,\"validation_paysim.csv\")"
   ]
  },
  {
   "cell_type": "markdown",
   "metadata": {},
   "source": [
    "Write the records to file"
   ]
  },
  {
   "cell_type": "code",
   "execution_count": 23,
   "metadata": {},
   "outputs": [],
   "source": [
    "train.to_csv(path_or_buf=trainfile, sep=',', na_rep='', header=False, index=False,  mode='w', encoding='UTF-8', quotechar='\"', line_terminator='\\n', decimal='.')\n",
    "test.to_csv(path_or_buf=testfile, sep=',', na_rep='', header=False, index=False,  mode='w', encoding='UTF-8', quotechar='\"', line_terminator='\\n', decimal='.')\n",
    "validation.to_csv(path_or_buf=validationfile, sep=',', na_rep='', header=False, index=False,  mode='w', encoding='UTF-8', quotechar='\"', line_terminator='\\n', decimal='.')"
   ]
  },
  {
   "cell_type": "code",
   "execution_count": 28,
   "metadata": {},
   "outputs": [
    {
     "name": "stderr",
     "output_type": "stream",
     "text": [
      "'head' is not recognized as an internal or external command,\n",
      "operable program or batch file.\n"
     ]
    }
   ],
   "source": []
  },
  {
   "cell_type": "markdown",
   "metadata": {},
   "source": [
    "Copy the data to s3 into train and test channels"
   ]
  },
  {
   "cell_type": "code",
   "execution_count": null,
   "metadata": {},
   "outputs": [],
   "source": []
  },
  {
   "cell_type": "markdown",
   "metadata": {},
   "source": [
    "\n",
    "## Training the XGBoost model\n",
    "\n",
    "After setting training parameters, we kick off training, and poll for status until training is completed, which in this example, takes between 5 and 6 minutes.\n"
   ]
  },
  {
   "cell_type": "code",
   "execution_count": 24,
   "metadata": {},
   "outputs": [
    {
     "name": "stdout",
     "output_type": "stream",
     "text": [
      "Training the XGBoost model locally...\n",
      "[11:27:51] WARNING: C:/Users/Administrator/workspace/xgboost-win64_release_1.5.1/src/learner.cc:576: \n",
      "Parameters: { \"silent\" } might not be used.\n",
      "\n",
      "  This could be a false alarm, with some parameters getting used by language bindings but\n",
      "  then being mistakenly passed down to XGBoost core, or some parameter actually being used\n",
      "  but getting flagged wrongly here. Please open an issue if you find any such cases.\n",
      "\n",
      "\n",
      "[0]\ttrain-auc:0.98750\tvalidation-auc:0.98747\n",
      "[1]\ttrain-auc:0.99081\tvalidation-auc:0.99065\n",
      "[2]\ttrain-auc:0.99197\tvalidation-auc:0.99160\n",
      "[3]\ttrain-auc:0.99211\tvalidation-auc:0.99187\n",
      "[4]\ttrain-auc:0.99394\tvalidation-auc:0.99333\n",
      "[5]\ttrain-auc:0.99646\tvalidation-auc:0.99628\n",
      "[6]\ttrain-auc:0.99702\tvalidation-auc:0.99702\n",
      "[7]\ttrain-auc:0.99709\tvalidation-auc:0.99696\n",
      "[8]\ttrain-auc:0.99784\tvalidation-auc:0.99759\n",
      "[9]\ttrain-auc:0.99789\tvalidation-auc:0.99771\n",
      "[10]\ttrain-auc:0.99798\tvalidation-auc:0.99786\n",
      "[11]\ttrain-auc:0.99804\tvalidation-auc:0.99792\n",
      "[12]\ttrain-auc:0.99809\tvalidation-auc:0.99793\n",
      "[13]\ttrain-auc:0.99818\tvalidation-auc:0.99805\n",
      "[14]\ttrain-auc:0.99823\tvalidation-auc:0.99808\n",
      "[15]\ttrain-auc:0.99829\tvalidation-auc:0.99807\n",
      "[16]\ttrain-auc:0.99830\tvalidation-auc:0.99807\n",
      "[17]\ttrain-auc:0.99837\tvalidation-auc:0.99811\n",
      "[18]\ttrain-auc:0.99839\tvalidation-auc:0.99810\n",
      "[19]\ttrain-auc:0.99844\tvalidation-auc:0.99813\n",
      "[20]\ttrain-auc:0.99857\tvalidation-auc:0.99823\n",
      "[21]\ttrain-auc:0.99868\tvalidation-auc:0.99836\n",
      "[22]\ttrain-auc:0.99868\tvalidation-auc:0.99836\n",
      "[23]\ttrain-auc:0.99876\tvalidation-auc:0.99841\n",
      "[24]\ttrain-auc:0.99876\tvalidation-auc:0.99841\n",
      "[25]\ttrain-auc:0.99876\tvalidation-auc:0.99843\n",
      "[26]\ttrain-auc:0.99889\tvalidation-auc:0.99854\n",
      "[27]\ttrain-auc:0.99892\tvalidation-auc:0.99854\n",
      "[28]\ttrain-auc:0.99892\tvalidation-auc:0.99855\n",
      "[29]\ttrain-auc:0.99892\tvalidation-auc:0.99855\n",
      "[30]\ttrain-auc:0.99899\tvalidation-auc:0.99860\n",
      "[31]\ttrain-auc:0.99898\tvalidation-auc:0.99859\n",
      "[32]\ttrain-auc:0.99903\tvalidation-auc:0.99858\n",
      "[33]\ttrain-auc:0.99908\tvalidation-auc:0.99859\n",
      "[34]\ttrain-auc:0.99910\tvalidation-auc:0.99858\n",
      "[35]\ttrain-auc:0.99913\tvalidation-auc:0.99859\n",
      "[36]\ttrain-auc:0.99923\tvalidation-auc:0.99868\n",
      "[37]\ttrain-auc:0.99926\tvalidation-auc:0.99861\n",
      "[38]\ttrain-auc:0.99924\tvalidation-auc:0.99859\n",
      "[39]\ttrain-auc:0.99934\tvalidation-auc:0.99860\n",
      "[40]\ttrain-auc:0.99931\tvalidation-auc:0.99853\n",
      "[41]\ttrain-auc:0.99933\tvalidation-auc:0.99847\n",
      "[42]\ttrain-auc:0.99930\tvalidation-auc:0.99843\n",
      "[43]\ttrain-auc:0.99939\tvalidation-auc:0.99843\n",
      "[44]\ttrain-auc:0.99937\tvalidation-auc:0.99838\n",
      "[45]\ttrain-auc:0.99942\tvalidation-auc:0.99832\n",
      "[46]\ttrain-auc:0.99944\tvalidation-auc:0.99832\n",
      "[47]\ttrain-auc:0.99953\tvalidation-auc:0.99827\n",
      "[48]\ttrain-auc:0.99952\tvalidation-auc:0.99820\n",
      "[49]\ttrain-auc:0.99951\tvalidation-auc:0.99815\n",
      "Training completed in 181.80 seconds.\n",
      "Model saved to xgboost_model.json\n",
      "Model loaded successfully.\n"
     ]
    }
   ],
   "source": [
    "import pandas as pd\n",
    "import numpy as np\n",
    "from sklearn.model_selection import train_test_split\n",
    "from sklearn.metrics import roc_auc_score, precision_score, recall_score, f1_score\n",
    "import xgboost as xgb\n",
    "import os\n",
    "import time\n",
    "\n",
    "# Load the data from the pre-split files\n",
    "train = pd.read_csv(\"train_paysim.csv\", header=None)\n",
    "validation = pd.read_csv(\"validation_paysim.csv\", header=None)\n",
    "test = pd.read_csv(\"test_paysim.csv\", header=None)\n",
    "\n",
    "# Separate features and labels\n",
    "# First column is the label\n",
    "y_train = train.iloc[:, 0]  # Select first column for labels\n",
    "X_train = train.iloc[:, 1:]  # All other columns for features\n",
    "\n",
    "y_val = validation.iloc[:, 0]  # Select first column for labels\n",
    "X_val = validation.iloc[:, 1:]  # All other columns for features\n",
    "\n",
    "y_test = test.iloc[:, 0]  # Select first column for labels\n",
    "X_test = test.iloc[:, 1:]  # All other columns for features\n",
    "\n",
    "\n",
    "# Calculate scale_pos_weight for handling class imbalance\n",
    "#scale_pos_weight = len(y_train) / (y_train.sum() * 1.0)\n",
    "scale_pos_weight = (len(y_train) - y_train.sum()) / y_train.sum()\n",
    "\n",
    "# Define hyperparameters (equivalent to SageMaker parameters)\n",
    "params = {\n",
    "    \"max_depth\": 5,\n",
    "    \"eta\": 0.2,\n",
    "    \"gamma\": 4,\n",
    "    \"min_child_weight\": 6,\n",
    "    \"subsample\": 0.7,\n",
    "    \"objective\": \"binary:logistic\",  # Adjust objective if required\n",
    "    \"eval_metric\": \"auc\",\n",
    "    \"silent\": 0,\n",
    "    \"scale_pos_weight\": scale_pos_weight,  # Handle class imbalance\n",
    "}\n",
    "\n",
    "num_round = 50\n",
    "\n",
    "# Convert data to DMatrix format for XGBoost\n",
    "dtrain = xgb.DMatrix(X_train, label=y_train)\n",
    "dval = xgb.DMatrix(X_val, label=y_val)\n",
    "dtest = xgb.DMatrix(X_test, label=y_test)\n",
    "\n",
    "# Train the model\n",
    "print(\"Training the XGBoost model locally...\")\n",
    "start_time = time.time()\n",
    "evals = [(dtrain, 'train'), (dval, 'validation')]\n",
    "model = xgb.train(params, dtrain, num_boost_round=num_round, evals=evals)\n",
    "\n",
    "print(f\"Training completed in {time.time() - start_time:.2f} seconds.\")\n",
    "\n",
    "# Save the model locally\n",
    "model_file = \"xgboost_model.json\"\n",
    "model.save_model(model_file)\n",
    "print(f\"Model saved to {model_file}\")\n",
    "\n",
    "# Load the model for inference\n",
    "loaded_model = xgb.Booster()\n",
    "loaded_model.load_model(model_file)\n",
    "print(\"Model loaded successfully.\")"
   ]
  },
  {
   "cell_type": "code",
   "execution_count": 27,
   "metadata": {},
   "outputs": [
    {
     "data": {
      "image/png": "[encoded data removed]",
      "text/plain": [
       "<Figure size 576x432 with 1 Axes>"
      ]
     },
     "metadata": {
      "needs_background": "light"
     },
     "output_type": "display_data"
    }
   ],
   "source": [
    "import matplotlib.pyplot as plt\n",
    "from sklearn.metrics import roc_curve, auc\n",
    "\n",
    "# Compute the false positive rate (FPR), true positive rate (TPR), and thresholds\n",
    "fpr, tpr, thresholds = roc_curve(y_test, y_pred)\n",
    "\n",
    "# Calculate the AUC\n",
    "roc_auc = auc(fpr, tpr)\n",
    "\n",
    "# Plot the ROC curve\n",
    "plt.figure(figsize=(8, 6))\n",
    "plt.plot(fpr, tpr, color='blue', lw=2, label=f'ROC curve (AUC = {roc_auc:.4f})')\n",
    "plt.plot([0, 1], [0, 1], color='gray', linestyle='--', label='Random Guess')\n",
    "plt.xlabel('False Positive Rate')\n",
    "plt.ylabel('True Positive Rate')\n",
    "plt.title('Receiver Operating Characteristic (ROC) Curve')\n",
    "plt.legend(loc=\"lower right\")\n",
    "plt.grid()\n",
    "plt.show()\n"
   ]
  },
  {
   "cell_type": "markdown",
   "metadata": {},
   "source": [
    "### Create Model"
   ]
  },
  {
   "cell_type": "code",
   "execution_count": 26,
   "metadata": {},
   "outputs": [
    {
     "name": "stdout",
     "output_type": "stream",
     "text": [
      "ROC AUC on test set: 0.9990\n",
      "Precision: 0.0719\n",
      "Recall: 0.9976\n",
      "F1 Score: 0.1341\n",
      "Predictions saved to test_predictions.csv\n"
     ]
    }
   ],
   "source": [
    "# Evaluate on the test set\n",
    "y_pred = loaded_model.predict(dtest)\n",
    "\n",
    "# Calculate ROC AUC\n",
    "roc_auc = roc_auc_score(y_test, y_pred)\n",
    "print(f\"ROC AUC on test set: {roc_auc:.4f}\")\n",
    "\n",
    "# Convert probabilities to binary predictions (threshold of 0.5)\n",
    "y_pred_binary = (y_pred > 0.5)\n",
    "\n",
    "# Calculate precision, recall, and F1 score\n",
    "precision = precision_score(y_test, y_pred_binary)\n",
    "recall = recall_score(y_test, y_pred_binary)\n",
    "f1 = f1_score(y_test, y_pred_binary)\n",
    "\n",
    "print(f\"Precision: {precision:.4f}\")\n",
    "print(f\"Recall: {recall:.4f}\")\n",
    "print(f\"F1 Score: {f1:.4f}\")\n",
    "\n",
    "# Optional: Save predictions to a file\n",
    "output_file = \"test_predictions.csv\"\n",
    "pd.DataFrame({'actual': y_test, 'predicted': y_pred}).to_csv(output_file, index=False)\n",
    "print(f\"Predictions saved to {output_file}\")\n"
   ]
  },
  {
   "cell_type": "code",
   "execution_count": 36,
   "metadata": {},
   "outputs": [
    {
     "name": "stdout",
     "output_type": "stream",
     "text": [
      "Predicted probability: 1.0000\n",
      "Predicted label (binary): True\n"
     ]
    }
   ],
   "source": [
    "# Manually input a single data point (replace with your feature values)\n",
    "# Example: Let's assume the dataset has 3 features\n",
    "single_sample = pd.DataFrame({\n",
    "    0: [0],  # Feature 1 value\n",
    "    1: [238],  # Feature 2 value\n",
    "    2: [797189.27],  # Feature 3 value\n",
    "    3: [0.0],  # Feature 3 value\n",
    "    4: [2032573.39],  # Feature 3 value\n",
    "    5: [0],  # Feature 3 value\n",
    "    6: [0],  # Feature 3 value\n",
    "    7: [0],  # Feature 3 value\n",
    "    8: [0],  # Feature 3 value\n",
    "    9: [0],  # Feature 3 value\n",
    "    10: [0],  # Feature 3 value\n",
    "    11: [0],  # Feature 3 value\n",
    "    #12: [1],  # Feature 3 value\n",
    "    \n",
    "    \n",
    "    #0,238,797189.27,0.0,2032573.39,0,0,0,0,0,0,0,1\n",
    "\n",
    "    # Add more features as required based on your dataset\n",
    "})\n",
    "\n",
    "# If your dataset has more features, make sure to add them in the dictionary\n",
    "\n",
    "\n",
    "# Convert the single input sample to DMatrix\n",
    "dtest_single = xgb.DMatrix(single_sample)\n",
    "\n",
    "\n",
    "# Get the predicted probability (for binary classification)\n",
    "y_pred_single = loaded_model.predict(dtest_single)\n",
    "\n",
    "# If you need binary prediction (0 or 1), apply a threshold (e.g., 0.5)\n",
    "y_pred_binary_single = (y_pred_single > 0.5)\n",
    "\n",
    "# Print the predicted probability and binary prediction\n",
    "print(f\"Predicted probability: {y_pred_single[0]:.4f}\")\n",
    "print(f\"Predicted label (binary): {y_pred_binary_single[0]}\")\n",
    "\n"
   ]
  },
  {
   "cell_type": "markdown",
   "metadata": {},
   "source": [
    "## Predict Using Batch transform"
   ]
  },
  {
   "cell_type": "markdown",
   "metadata": {},
   "source": [
    "This is a good use of batch transform where you simply evalute the model  before deloying it as an API"
   ]
  },
  {
   "cell_type": "code",
   "execution_count": null,
   "metadata": {},
   "outputs": [],
   "source": [
    "import os\n",
    "\n",
    "batchfileinput=os.path.join(tmpdir, \"batchvalidation.csv\")\n",
    "batchfileresults=os.path.join(tmpdir, \"batchvalidation_results.csv\")"
   ]
  },
  {
   "cell_type": "code",
   "execution_count": null,
   "metadata": {},
   "outputs": [],
   "source": [
    "%%time\n",
    "import json\n",
    "from itertools import islice\n",
    "import math\n",
    "import struct\n",
    "\n",
    "file_name = testfile \n",
    "with open(file_name, 'r') as f:\n",
    "    lines = f.readlines()\n",
    "    \n",
    "input_records = [\",\".join(l.strip().split(\",\")[1:]) for l in lines]\n",
    "labels = [int(l.split(\",\")[0]) for l in lines]\n",
    "\n",
    "\n",
    "with open(batchfileinput , \"w\") as f:\n",
    "    f.writelines([\"{}\\n\".format(item) for item in input_records])\n",
    "                                          "
   ]
  },
  {
   "cell_type": "code",
   "execution_count": null,
   "metadata": {},
   "outputs": [],
   "source": [
    "%%time\n",
    "import boto3\n",
    "import sagemaker\n",
    "import json\n",
    "\n",
    "fmttime= strftime(\"%Y-%m-%d-%H-%M-%S\", gmtime())\n",
    "input_key_file=\"batchvalidation.csv\"\n",
    "input_batch_key=\"{}/batchTransform/{}_input/{}\".format(prefix, fmttime, input_key_file)\n",
    "input_location = 's3://{}/{}'.format(bucket, input_batch_key)\n",
    "output_batch_key = \"{}/batchTransform/{}_output\".format(prefix,fmttime)\n",
    "output_location = 's3://{}/{}'.format(bucket, output_batch_key)\n",
    "\n",
    "\n",
    "s3_client = boto3.client('s3')\n",
    "s3_client.upload_file(batchfileinput, bucket, input_batch_key)\n",
    "\n",
    "# Initialize the transformer object\n",
    "transformer =sagemaker.transformer.Transformer(\n",
    "    base_transform_job_name='Batch-Transform',\n",
    "    model_name=model_name,\n",
    "    instance_count=1,\n",
    "    instance_type='ml.c4.xlarge',\n",
    "    output_path=output_location\n",
    "    )\n",
    "# To start a transform job:\n",
    "transformer.transform(input_location, content_type='text/csv', split_type='Line')\n",
    "# Then wait until transform job is completed\n",
    "transformer.wait()\n",
    "\n",
    "# To fetch validation result \n",
    "outputkey ='{}/{}.out'.format(output_batch_key, input_key_file)\n",
    "print(outputkey)\n",
    "s3_client.download_file(bucket, outputkey, batchfileresults)\n",
    "with open(batchfileresults) as f:\n",
    "    results = f.readlines()   \n",
    "    predicted = [float(r) for r in results]\n",
    "print(\"Sample transform result: {}\".format(results[0]))"
   ]
  },
  {
   "cell_type": "markdown",
   "metadata": {},
   "source": [
    "### Measurement using - AUCPR\n",
    "Because the postive samples are underrepresented, measures such as AUC under ROC or accuracy inflate the numbers. So, use the AUC under the Precision Recall curve instead as it doesnt take into account True Negatives"
   ]
  },
  {
   "cell_type": "code",
   "execution_count": 31,
   "metadata": {},
   "outputs": [
    {
     "ename": "NameError",
     "evalue": "name 'labels' is not defined",
     "output_type": "error",
     "traceback": [
      "\u001b[1;31m---------------------------------------------------------------------------\u001b[0m",
      "\u001b[1;31mNameError\u001b[0m                                 Traceback (most recent call last)",
      "\u001b[1;32m<ipython-input-31-e6f31ba59b42>\u001b[0m in \u001b[0;36m<module>\u001b[1;34m\u001b[0m\n\u001b[0;32m      1\u001b[0m \u001b[1;32mimport\u001b[0m \u001b[0msklearn\u001b[0m\u001b[1;33m\u001b[0m\u001b[1;33m\u001b[0m\u001b[0m\n\u001b[1;32m----> 2\u001b[1;33m \u001b[0mmicro_score\u001b[0m \u001b[1;33m=\u001b[0m \u001b[0msklearn\u001b[0m\u001b[1;33m.\u001b[0m\u001b[0mmetrics\u001b[0m\u001b[1;33m.\u001b[0m\u001b[0maverage_precision_score\u001b[0m\u001b[1;33m(\u001b[0m\u001b[0mlabels\u001b[0m\u001b[1;33m,\u001b[0m \u001b[0mpredicted\u001b[0m\u001b[1;33m,\u001b[0m \u001b[0maverage\u001b[0m\u001b[1;33m=\u001b[0m\u001b[1;34m'micro'\u001b[0m\u001b[1;33m,\u001b[0m  \u001b[0msample_weight\u001b[0m\u001b[1;33m=\u001b[0m\u001b[1;32mNone\u001b[0m\u001b[1;33m)\u001b[0m\u001b[1;33m\u001b[0m\u001b[1;33m\u001b[0m\u001b[0m\n\u001b[0m\u001b[0;32m      3\u001b[0m \u001b[0mprint\u001b[0m\u001b[1;33m(\u001b[0m\u001b[1;34m\"AUC under precision recall curve is {}\"\u001b[0m\u001b[1;33m.\u001b[0m\u001b[0mformat\u001b[0m\u001b[1;33m(\u001b[0m\u001b[0mmicro_score\u001b[0m\u001b[1;33m)\u001b[0m\u001b[1;33m)\u001b[0m\u001b[1;33m\u001b[0m\u001b[1;33m\u001b[0m\u001b[0m\n",
      "\u001b[1;31mNameError\u001b[0m: name 'labels' is not defined"
     ]
    }
   ],
   "source": [
    "import sklearn\n",
    "micro_score = sklearn.metrics.average_precision_score(labels, predicted, average='micro',  sample_weight=None)\n",
    "print(\"AUC under precision recall curve is {}\".format(micro_score))"
   ]
  },
  {
   "cell_type": "markdown",
   "metadata": {},
   "source": [
    "## Predict using API inference endpoint\n",
    "Now you are ready to deploy your model as an API.."
   ]
  },
  {
   "cell_type": "markdown",
   "metadata": {},
   "source": [
    "#### Deploy Endpoint"
   ]
  },
  {
   "cell_type": "code",
   "execution_count": null,
   "metadata": {},
   "outputs": [],
   "source": [
    "from time import gmtime, strftime\n",
    "\n",
    "endpoint_config_name = 'DEMO-XGBoostEndpointConfig-' + strftime(\"%Y-%m-%d-%H-%M-%S\", gmtime())\n",
    "print(endpoint_config_name)\n",
    "create_endpoint_config_response = client.create_endpoint_config(\n",
    "    EndpointConfigName = endpoint_config_name,\n",
    "    ProductionVariants=[{\n",
    "        'InstanceType':'ml.m4.xlarge',\n",
    "        'InitialVariantWeight':1,\n",
    "        'InitialInstanceCount':1,\n",
    "        'ModelName':model_name,\n",
    "        'VariantName':'AllTraffic'}])\n",
    "\n",
    "print(\"Endpoint Config Arn: \" + create_endpoint_config_response['EndpointConfigArn'])"
   ]
  },
  {
   "cell_type": "code",
   "execution_count": null,
   "metadata": {},
   "outputs": [],
   "source": [
    "%%time\n",
    "import time\n",
    "\n",
    "endpoint_name = 'DEMO-XGBoostEndpoint-' + strftime(\"%Y-%m-%d-%H-%M-%S\", gmtime())\n",
    "print(endpoint_name)\n",
    "create_endpoint_response = client.create_endpoint(\n",
    "    EndpointName=endpoint_name,\n",
    "    EndpointConfigName=endpoint_config_name)\n",
    "print(create_endpoint_response['EndpointArn'])\n",
    "\n",
    "resp = client.describe_endpoint(EndpointName=endpoint_name)\n",
    "status = resp['EndpointStatus']\n",
    "print(\"Status: \" + status)\n",
    "\n",
    "while status=='Creating':\n",
    "    time.sleep(60)\n",
    "    resp = client.describe_endpoint(EndpointName=endpoint_name)\n",
    "    status = resp['EndpointStatus']\n",
    "    print(\"Status: \" + status)\n",
    "\n",
    "print(\"Arn: \" + resp['EndpointArn'])\n",
    "print(\"Status: \" + status)"
   ]
  },
  {
   "cell_type": "markdown",
   "metadata": {},
   "source": [
    "#### Invoke your api to run inference"
   ]
  },
  {
   "cell_type": "code",
   "execution_count": null,
   "metadata": {},
   "outputs": [],
   "source": [
    "runtime_client = boto3.client('runtime.sagemaker')"
   ]
  },
  {
   "cell_type": "code",
   "execution_count": null,
   "metadata": {},
   "outputs": [],
   "source": [
    "%%time\n",
    "import json\n",
    "from itertools import islice\n",
    "import math\n",
    "import struct\n",
    "\n",
    "file_name = testfile \n",
    "with open(file_name, 'r') as f:\n",
    "    lines = f.readlines()\n",
    "    \n",
    "input_records = [\",\".join(l.strip().split(\",\")[1:]) for l in lines]\n",
    "labels = [int(l.split(\",\")[0]) for l in lines]\n",
    "\n"
   ]
  },
  {
   "cell_type": "code",
   "execution_count": null,
   "metadata": {},
   "outputs": [],
   "source": [
    "def chunks(l, n):\n",
    "    \"\"\"Yield successive n-sized chunks from l.\"\"\"\n",
    "    for i in range(0, len(l), n):\n",
    "        yield l[i:i + n]"
   ]
  },
  {
   "cell_type": "code",
   "execution_count": null,
   "metadata": {},
   "outputs": [],
   "source": [
    "%%time\n",
    "predicted = []\n",
    "for record_chunks in chunks(input_records, 10000):\n",
    "    formatted = \"\\n\".join(record_chunks)\n",
    "    response = runtime_client.invoke_endpoint(EndpointName=endpoint_name, \n",
    "                                   ContentType='text/csv', \n",
    "                                   Body=formatted.encode('utf-8'))\n",
    "    result = response['Body'].read()\n",
    "    result = result.decode(\"utf-8\")\n",
    "    predicted.extend([float(r) for r in result.split(',')])\n",
    "    \n",
    "    print(\"Predicted {} out of {} so far ..\".format(len(predicted), len(input_records)))\n"
   ]
  },
  {
   "cell_type": "code",
   "execution_count": null,
   "metadata": {},
   "outputs": [],
   "source": [
    "import sklearn\n",
    "    \n",
    "macro_score = sklearn.metrics.average_precision_score(labels, predicted, average='macro',  sample_weight=None)\n",
    "\n",
    "print(\"The AUC under precision recall curve is {}\".format(micro_score, macro_score))"
   ]
  },
  {
   "cell_type": "code",
   "execution_count": null,
   "metadata": {},
   "outputs": [],
   "source": [
    "confidence_threshold=.5"
   ]
  },
  {
   "cell_type": "code",
   "execution_count": null,
   "metadata": {},
   "outputs": [],
   "source": [
    "confusion_matrix = sklearn.metrics.confusion_matrix(labels, pd.DataFrame(predicted) > confidence_threshold, labels=[1,0], sample_weight=None)\n",
    "confusion_matrix"
   ]
  },
  {
   "cell_type": "code",
   "execution_count": null,
   "metadata": {},
   "outputs": [],
   "source": [
    "import seaborn as sn\n",
    "df_cm = pd.DataFrame(\n",
    "        confusion_matrix, index=[\"Fraud\", \"Non-Fraud\"], columns=[\"Fraud\", \"Non-Fraud\"], \n",
    ")\n",
    "sn.set(font_scale=1.4)#for label size\n",
    "sn.heatmap(df_cm, annot=True,annot_kws={\"size\": 16},fmt=\"d\", cmap=\"tab10\" )\n",
    "plt.show()"
   ]
  },
  {
   "cell_type": "code",
   "execution_count": null,
   "metadata": {},
   "outputs": [],
   "source": [
    "from sklearn.metrics import precision_recall_fscore_support\n",
    "precision_recall_fscore_support(labels, pd.DataFrame(predicted) > confidence_threshold, average=None)"
   ]
  },
  {
   "cell_type": "markdown",
   "metadata": {},
   "source": [
    "#### Delete endpoint as this is just a demo.."
   ]
  },
  {
   "cell_type": "code",
   "execution_count": null,
   "metadata": {},
   "outputs": [],
   "source": [
    "client.delete_endpoint(EndpointName=endpoint_name)"
   ]
  },
  {
   "cell_type": "markdown",
   "metadata": {},
   "source": [
    "### Clean up local tmp directory"
   ]
  },
  {
   "cell_type": "code",
   "execution_count": null,
   "metadata": {},
   "outputs": [],
   "source": [
    "!rm -rf $tmpdir"
   ]
  },
  {
   "cell_type": "markdown",
   "metadata": {},
   "source": [
    "### Next Steps\n",
    "This XGBoost model doesnt take into account the time series ( the step sequence). So inorder to improve the model, we will look at using Time Series Classification Techniques. \n",
    "\n",
    "**Coming soon.....**"
   ]
  }
 ],
 "metadata": {
  "kernelspec": {
   "display_name": "Python 3",
   "language": "python",
   "name": "python3"
  },
  "language_info": {
   "codemirror_mode": {
    "name": "ipython",
    "version": 3
   },
   "file_extension": ".py",
   "mimetype": "text/x-python",
   "name": "python",
   "nbconvert_exporter": "python",
   "pygments_lexer": "ipython3",
   "version": "3.6.13"
  }
 },
 "nbformat": 4,
 "nbformat_minor": 2
}
